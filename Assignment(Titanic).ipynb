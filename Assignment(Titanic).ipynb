{
 "cells": [
  {
   "cell_type": "markdown",
   "id": "10dfe0ef",
   "metadata": {},
   "source": [
    "This code is created by Juhee Bae for the purpose of instructing \"Introduction to Data Science - Visualization in Python\" in 2021 Fall. Refer to the lecture and the code provided on Canvas. Do not share with external venues.\n",
    "\n",
    "Write your answer of each question as a 'description' under your plot. \n",
    "\n",
    "Q2 has 4 sub-questions, Q5 has 2 sub-questions, and Q9 has 2 sub-questions. With the subquestions, there are 15 questions."
   ]
  },
  {
   "cell_type": "markdown",
   "id": "b0a273be",
   "metadata": {},
   "source": [
    "Course: Introduction to Data Science - Visualization in Python\n",
    "\n",
    "Your name: HARAS AHMAD ZEESHAN\n",
    "\n",
    "login id: a20harze@student.his.se"
   ]
  },
  {
   "cell_type": "markdown",
   "id": "724f8ba4",
   "metadata": {},
   "source": [
    "# Import Libraries"
   ]
  },
  {
   "cell_type": "code",
   "execution_count": 4,
   "id": "01f8b9e1",
   "metadata": {},
   "outputs": [],
   "source": [
    "#import packages\n",
    "import pandas as pd\n",
    "import numpy as np\n",
    "import random as rnd\n",
    "import matplotlib.pyplot as plt\n",
    "from pandas.plotting import scatter_matrix\n",
    "import seaborn as sb\n",
    "import seaborn as sns\n",
    "import plotly.express as px"
   ]
  },
  {
   "cell_type": "markdown",
   "id": "6f103aff",
   "metadata": {},
   "source": [
    "# Read and check your dataset"
   ]
  },
  {
   "cell_type": "code",
   "execution_count": 5,
   "id": "0dab90d2",
   "metadata": {},
   "outputs": [],
   "source": [
    "#load data with pandas\n",
    "#change the directory to where the csv file is located\n",
    "titanic_df = pd.read_csv(\"titanic.csv\")"
   ]
  },
  {
   "cell_type": "code",
   "execution_count": 6,
   "id": "04e086c8",
   "metadata": {
    "scrolled": true
   },
   "outputs": [
    {
     "data": {
      "text/html": [
       "<div>\n",
       "<style scoped>\n",
       "    .dataframe tbody tr th:only-of-type {\n",
       "        vertical-align: middle;\n",
       "    }\n",
       "\n",
       "    .dataframe tbody tr th {\n",
       "        vertical-align: top;\n",
       "    }\n",
       "\n",
       "    .dataframe thead th {\n",
       "        text-align: right;\n",
       "    }\n",
       "</style>\n",
       "<table border=\"1\" class=\"dataframe\">\n",
       "  <thead>\n",
       "    <tr style=\"text-align: right;\">\n",
       "      <th></th>\n",
       "      <th>Survived</th>\n",
       "      <th>Pclass</th>\n",
       "      <th>Name</th>\n",
       "      <th>Gender</th>\n",
       "      <th>Age</th>\n",
       "      <th>Siblings/Spouses Aboard</th>\n",
       "      <th>Parents/Children Aboard</th>\n",
       "      <th>Fare</th>\n",
       "    </tr>\n",
       "  </thead>\n",
       "  <tbody>\n",
       "    <tr>\n",
       "      <th>0</th>\n",
       "      <td>0</td>\n",
       "      <td>3</td>\n",
       "      <td>Mr. Owen Harris Braund</td>\n",
       "      <td>male</td>\n",
       "      <td>22.0</td>\n",
       "      <td>1</td>\n",
       "      <td>0</td>\n",
       "      <td>7.2500</td>\n",
       "    </tr>\n",
       "    <tr>\n",
       "      <th>1</th>\n",
       "      <td>1</td>\n",
       "      <td>1</td>\n",
       "      <td>Mrs. John Bradley (Florence Briggs Thayer) Cum...</td>\n",
       "      <td>female</td>\n",
       "      <td>38.0</td>\n",
       "      <td>1</td>\n",
       "      <td>0</td>\n",
       "      <td>71.2833</td>\n",
       "    </tr>\n",
       "    <tr>\n",
       "      <th>2</th>\n",
       "      <td>1</td>\n",
       "      <td>3</td>\n",
       "      <td>Miss. Laina Heikkinen</td>\n",
       "      <td>female</td>\n",
       "      <td>26.0</td>\n",
       "      <td>0</td>\n",
       "      <td>0</td>\n",
       "      <td>7.9250</td>\n",
       "    </tr>\n",
       "    <tr>\n",
       "      <th>3</th>\n",
       "      <td>1</td>\n",
       "      <td>1</td>\n",
       "      <td>Mrs. Jacques Heath (Lily May Peel) Futrelle</td>\n",
       "      <td>female</td>\n",
       "      <td>35.0</td>\n",
       "      <td>1</td>\n",
       "      <td>0</td>\n",
       "      <td>53.1000</td>\n",
       "    </tr>\n",
       "    <tr>\n",
       "      <th>4</th>\n",
       "      <td>0</td>\n",
       "      <td>3</td>\n",
       "      <td>Mr. William Henry Allen</td>\n",
       "      <td>male</td>\n",
       "      <td>35.0</td>\n",
       "      <td>0</td>\n",
       "      <td>0</td>\n",
       "      <td>8.0500</td>\n",
       "    </tr>\n",
       "  </tbody>\n",
       "</table>\n",
       "</div>"
      ],
      "text/plain": [
       "   Survived  Pclass                                               Name  \\\n",
       "0         0       3                             Mr. Owen Harris Braund   \n",
       "1         1       1  Mrs. John Bradley (Florence Briggs Thayer) Cum...   \n",
       "2         1       3                              Miss. Laina Heikkinen   \n",
       "3         1       1        Mrs. Jacques Heath (Lily May Peel) Futrelle   \n",
       "4         0       3                            Mr. William Henry Allen   \n",
       "\n",
       "   Gender   Age  Siblings/Spouses Aboard  Parents/Children Aboard     Fare  \n",
       "0    male  22.0                        1                        0   7.2500  \n",
       "1  female  38.0                        1                        0  71.2833  \n",
       "2  female  26.0                        0                        0   7.9250  \n",
       "3  female  35.0                        1                        0  53.1000  \n",
       "4    male  35.0                        0                        0   8.0500  "
      ]
     },
     "execution_count": 6,
     "metadata": {},
     "output_type": "execute_result"
    }
   ],
   "source": [
    "#return five first rows of the data frame\n",
    "titanic_df.head(5)"
   ]
  },
  {
   "cell_type": "code",
   "execution_count": 7,
   "id": "cf626f08",
   "metadata": {},
   "outputs": [
    {
     "data": {
      "text/plain": [
       "0    674\n",
       "1    118\n",
       "2     80\n",
       "3      5\n",
       "5      5\n",
       "4      4\n",
       "6      1\n",
       "Name: Parents/Children Aboard, dtype: int64"
      ]
     },
     "execution_count": 7,
     "metadata": {},
     "output_type": "execute_result"
    }
   ],
   "source": [
    "# series\n",
    "titanic_df[\"Parents/Children Aboard\"].value_counts()"
   ]
  },
  {
   "cell_type": "code",
   "execution_count": 8,
   "id": "69f0267e",
   "metadata": {},
   "outputs": [
    {
     "data": {
      "text/plain": [
       "Survived                   0\n",
       "Pclass                     0\n",
       "Name                       0\n",
       "Gender                     0\n",
       "Age                        0\n",
       "Siblings/Spouses Aboard    0\n",
       "Parents/Children Aboard    0\n",
       "Fare                       0\n",
       "dtype: int64"
      ]
     },
     "execution_count": 8,
     "metadata": {},
     "output_type": "execute_result"
    }
   ],
   "source": [
    "# check missing values in dataset\n",
    "titanic_df.isnull().sum()"
   ]
  },
  {
   "cell_type": "code",
   "execution_count": 9,
   "id": "32211b6f",
   "metadata": {
    "scrolled": false
   },
   "outputs": [
    {
     "data": {
      "text/html": [
       "<div>\n",
       "<style scoped>\n",
       "    .dataframe tbody tr th:only-of-type {\n",
       "        vertical-align: middle;\n",
       "    }\n",
       "\n",
       "    .dataframe tbody tr th {\n",
       "        vertical-align: top;\n",
       "    }\n",
       "\n",
       "    .dataframe thead th {\n",
       "        text-align: right;\n",
       "    }\n",
       "</style>\n",
       "<table border=\"1\" class=\"dataframe\">\n",
       "  <thead>\n",
       "    <tr style=\"text-align: right;\">\n",
       "      <th></th>\n",
       "      <th>Survived</th>\n",
       "      <th>Pclass</th>\n",
       "      <th>Age</th>\n",
       "      <th>Siblings/Spouses Aboard</th>\n",
       "      <th>Parents/Children Aboard</th>\n",
       "      <th>Fare</th>\n",
       "    </tr>\n",
       "  </thead>\n",
       "  <tbody>\n",
       "    <tr>\n",
       "      <th>count</th>\n",
       "      <td>887.000000</td>\n",
       "      <td>887.000000</td>\n",
       "      <td>887.000000</td>\n",
       "      <td>887.000000</td>\n",
       "      <td>887.000000</td>\n",
       "      <td>887.00000</td>\n",
       "    </tr>\n",
       "    <tr>\n",
       "      <th>mean</th>\n",
       "      <td>0.385569</td>\n",
       "      <td>2.305524</td>\n",
       "      <td>29.471443</td>\n",
       "      <td>0.525366</td>\n",
       "      <td>0.383315</td>\n",
       "      <td>32.30542</td>\n",
       "    </tr>\n",
       "    <tr>\n",
       "      <th>std</th>\n",
       "      <td>0.487004</td>\n",
       "      <td>0.836662</td>\n",
       "      <td>14.121908</td>\n",
       "      <td>1.104669</td>\n",
       "      <td>0.807466</td>\n",
       "      <td>49.78204</td>\n",
       "    </tr>\n",
       "    <tr>\n",
       "      <th>min</th>\n",
       "      <td>0.000000</td>\n",
       "      <td>1.000000</td>\n",
       "      <td>0.420000</td>\n",
       "      <td>0.000000</td>\n",
       "      <td>0.000000</td>\n",
       "      <td>0.00000</td>\n",
       "    </tr>\n",
       "    <tr>\n",
       "      <th>25%</th>\n",
       "      <td>0.000000</td>\n",
       "      <td>2.000000</td>\n",
       "      <td>20.250000</td>\n",
       "      <td>0.000000</td>\n",
       "      <td>0.000000</td>\n",
       "      <td>7.92500</td>\n",
       "    </tr>\n",
       "    <tr>\n",
       "      <th>50%</th>\n",
       "      <td>0.000000</td>\n",
       "      <td>3.000000</td>\n",
       "      <td>28.000000</td>\n",
       "      <td>0.000000</td>\n",
       "      <td>0.000000</td>\n",
       "      <td>14.45420</td>\n",
       "    </tr>\n",
       "    <tr>\n",
       "      <th>75%</th>\n",
       "      <td>1.000000</td>\n",
       "      <td>3.000000</td>\n",
       "      <td>38.000000</td>\n",
       "      <td>1.000000</td>\n",
       "      <td>0.000000</td>\n",
       "      <td>31.13750</td>\n",
       "    </tr>\n",
       "    <tr>\n",
       "      <th>max</th>\n",
       "      <td>1.000000</td>\n",
       "      <td>3.000000</td>\n",
       "      <td>80.000000</td>\n",
       "      <td>8.000000</td>\n",
       "      <td>6.000000</td>\n",
       "      <td>512.32920</td>\n",
       "    </tr>\n",
       "  </tbody>\n",
       "</table>\n",
       "</div>"
      ],
      "text/plain": [
       "         Survived      Pclass         Age  Siblings/Spouses Aboard  \\\n",
       "count  887.000000  887.000000  887.000000               887.000000   \n",
       "mean     0.385569    2.305524   29.471443                 0.525366   \n",
       "std      0.487004    0.836662   14.121908                 1.104669   \n",
       "min      0.000000    1.000000    0.420000                 0.000000   \n",
       "25%      0.000000    2.000000   20.250000                 0.000000   \n",
       "50%      0.000000    3.000000   28.000000                 0.000000   \n",
       "75%      1.000000    3.000000   38.000000                 1.000000   \n",
       "max      1.000000    3.000000   80.000000                 8.000000   \n",
       "\n",
       "       Parents/Children Aboard       Fare  \n",
       "count               887.000000  887.00000  \n",
       "mean                  0.383315   32.30542  \n",
       "std                   0.807466   49.78204  \n",
       "min                   0.000000    0.00000  \n",
       "25%                   0.000000    7.92500  \n",
       "50%                   0.000000   14.45420  \n",
       "75%                   0.000000   31.13750  \n",
       "max                   6.000000  512.32920  "
      ]
     },
     "execution_count": 9,
     "metadata": {},
     "output_type": "execute_result"
    }
   ],
   "source": [
    "#details of each feature\n",
    "titanic_df.describe()"
   ]
  },
  {
   "cell_type": "code",
   "execution_count": 10,
   "id": "212a16b4",
   "metadata": {
    "scrolled": true
   },
   "outputs": [
    {
     "name": "stdout",
     "output_type": "stream",
     "text": [
      "<class 'pandas.core.frame.DataFrame'>\n",
      "RangeIndex: 887 entries, 0 to 886\n",
      "Data columns (total 8 columns):\n",
      " #   Column                   Non-Null Count  Dtype  \n",
      "---  ------                   --------------  -----  \n",
      " 0   Survived                 887 non-null    int64  \n",
      " 1   Pclass                   887 non-null    int64  \n",
      " 2   Name                     887 non-null    object \n",
      " 3   Gender                   887 non-null    object \n",
      " 4   Age                      887 non-null    float64\n",
      " 5   Siblings/Spouses Aboard  887 non-null    int64  \n",
      " 6   Parents/Children Aboard  887 non-null    int64  \n",
      " 7   Fare                     887 non-null    float64\n",
      "dtypes: float64(2), int64(4), object(2)\n",
      "memory usage: 55.6+ KB\n"
     ]
    }
   ],
   "source": [
    "#type of each feature\n",
    "titanic_df.info()"
   ]
  },
  {
   "cell_type": "markdown",
   "id": "410f2b0a",
   "metadata": {},
   "source": [
    "## Correlation"
   ]
  },
  {
   "cell_type": "code",
   "execution_count": 11,
   "id": "628c8559",
   "metadata": {},
   "outputs": [
    {
     "name": "stdout",
     "output_type": "stream",
     "text": [
      "Survived                   1.000000\n",
      "Pclass                     0.336528\n",
      "Fare                       0.256179\n",
      "Parents/Children Aboard    0.080097\n",
      "Age                        0.059665\n",
      "Siblings/Spouses Aboard    0.037082\n",
      "Name: Survived, dtype: float64\n"
     ]
    },
    {
     "data": {
      "text/plain": [
       "<AxesSubplot:>"
      ]
     },
     "execution_count": 11,
     "metadata": {},
     "output_type": "execute_result"
    },
    {
     "data": {
      "image/png": "[encoded data removed]",
      "text/plain": [
       "<Figure size 432x288 with 2 Axes>"
      ]
     },
     "metadata": {
      "needs_background": "light"
     },
     "output_type": "display_data"
    }
   ],
   "source": [
    "print(titanic_df.corr()[\"Survived\"].abs().sort_values(ascending=False))\n",
    "fig, ax = plt.subplots() # Sample figsize in inches, figsize=(13,13)\n",
    "sb.heatmap(titanic_df.corr(), annot=True, linewidths=.5, ax=ax, cmap=\"coolwarm\")"
   ]
  },
  {
   "cell_type": "markdown",
   "id": "5047dd43",
   "metadata": {},
   "source": [
    "## Bin the continuous values into discrete intervals"
   ]
  },
  {
   "cell_type": "code",
   "execution_count": 12,
   "id": "54a73a55",
   "metadata": {
    "scrolled": false
   },
   "outputs": [
    {
     "data": {
      "text/html": [
       "<div>\n",
       "<style scoped>\n",
       "    .dataframe tbody tr th:only-of-type {\n",
       "        vertical-align: middle;\n",
       "    }\n",
       "\n",
       "    .dataframe tbody tr th {\n",
       "        vertical-align: top;\n",
       "    }\n",
       "\n",
       "    .dataframe thead th {\n",
       "        text-align: right;\n",
       "    }\n",
       "</style>\n",
       "<table border=\"1\" class=\"dataframe\">\n",
       "  <thead>\n",
       "    <tr style=\"text-align: right;\">\n",
       "      <th></th>\n",
       "      <th>Survived</th>\n",
       "      <th>Pclass</th>\n",
       "      <th>Name</th>\n",
       "      <th>Gender</th>\n",
       "      <th>Age</th>\n",
       "      <th>Siblings/Spouses Aboard</th>\n",
       "      <th>Parents/Children Aboard</th>\n",
       "      <th>Fare</th>\n",
       "      <th>age_group</th>\n",
       "    </tr>\n",
       "  </thead>\n",
       "  <tbody>\n",
       "    <tr>\n",
       "      <th>882</th>\n",
       "      <td>0</td>\n",
       "      <td>2</td>\n",
       "      <td>Rev. Juozas Montvila</td>\n",
       "      <td>male</td>\n",
       "      <td>27.0</td>\n",
       "      <td>0</td>\n",
       "      <td>0</td>\n",
       "      <td>13.00</td>\n",
       "      <td>21-30</td>\n",
       "    </tr>\n",
       "    <tr>\n",
       "      <th>883</th>\n",
       "      <td>1</td>\n",
       "      <td>1</td>\n",
       "      <td>Miss. Margaret Edith Graham</td>\n",
       "      <td>female</td>\n",
       "      <td>19.0</td>\n",
       "      <td>0</td>\n",
       "      <td>0</td>\n",
       "      <td>30.00</td>\n",
       "      <td>11-20</td>\n",
       "    </tr>\n",
       "    <tr>\n",
       "      <th>884</th>\n",
       "      <td>0</td>\n",
       "      <td>3</td>\n",
       "      <td>Miss. Catherine Helen Johnston</td>\n",
       "      <td>female</td>\n",
       "      <td>7.0</td>\n",
       "      <td>1</td>\n",
       "      <td>2</td>\n",
       "      <td>23.45</td>\n",
       "      <td>0-10</td>\n",
       "    </tr>\n",
       "    <tr>\n",
       "      <th>885</th>\n",
       "      <td>1</td>\n",
       "      <td>1</td>\n",
       "      <td>Mr. Karl Howell Behr</td>\n",
       "      <td>male</td>\n",
       "      <td>26.0</td>\n",
       "      <td>0</td>\n",
       "      <td>0</td>\n",
       "      <td>30.00</td>\n",
       "      <td>21-30</td>\n",
       "    </tr>\n",
       "    <tr>\n",
       "      <th>886</th>\n",
       "      <td>0</td>\n",
       "      <td>3</td>\n",
       "      <td>Mr. Patrick Dooley</td>\n",
       "      <td>male</td>\n",
       "      <td>32.0</td>\n",
       "      <td>0</td>\n",
       "      <td>0</td>\n",
       "      <td>7.75</td>\n",
       "      <td>31-40</td>\n",
       "    </tr>\n",
       "  </tbody>\n",
       "</table>\n",
       "</div>"
      ],
      "text/plain": [
       "     Survived  Pclass                            Name  Gender   Age  \\\n",
       "882         0       2            Rev. Juozas Montvila    male  27.0   \n",
       "883         1       1     Miss. Margaret Edith Graham  female  19.0   \n",
       "884         0       3  Miss. Catherine Helen Johnston  female   7.0   \n",
       "885         1       1            Mr. Karl Howell Behr    male  26.0   \n",
       "886         0       3              Mr. Patrick Dooley    male  32.0   \n",
       "\n",
       "     Siblings/Spouses Aboard  Parents/Children Aboard   Fare age_group  \n",
       "882                        0                        0  13.00     21-30  \n",
       "883                        0                        0  30.00     11-20  \n",
       "884                        1                        2  23.45      0-10  \n",
       "885                        0                        0  30.00     21-30  \n",
       "886                        0                        0   7.75     31-40  "
      ]
     },
     "execution_count": 12,
     "metadata": {},
     "output_type": "execute_result"
    }
   ],
   "source": [
    "#https://pandas.pydata.org/docs/reference/api/pandas.cut.html\n",
    "#Bin the continuous values into discrete intervals.\n",
    "\n",
    "#labels for age\n",
    "age_labels = ['0-10', '11-20', '21-30', '31-40', '41-50', '51-60', '61-70', '71-80']\n",
    "#use pandas cut to bin the continuous variable age\n",
    "titanic_df['age_group'] = pd.cut(titanic_df.Age, range(0, 81, 10), labels=age_labels)\n",
    "titanic_df.tail(5) #show the last five rows"
   ]
  },
  {
   "cell_type": "markdown",
   "id": "3be7d196",
   "metadata": {},
   "source": [
    "## Check the dataset with conditions."
   ]
  },
  {
   "cell_type": "code",
   "execution_count": 13,
   "id": "aaba3f65",
   "metadata": {
    "scrolled": false
   },
   "outputs": [
    {
     "data": {
      "text/html": [
       "<div>\n",
       "<style scoped>\n",
       "    .dataframe tbody tr th:only-of-type {\n",
       "        vertical-align: middle;\n",
       "    }\n",
       "\n",
       "    .dataframe tbody tr th {\n",
       "        vertical-align: top;\n",
       "    }\n",
       "\n",
       "    .dataframe thead th {\n",
       "        text-align: right;\n",
       "    }\n",
       "</style>\n",
       "<table border=\"1\" class=\"dataframe\">\n",
       "  <thead>\n",
       "    <tr style=\"text-align: right;\">\n",
       "      <th></th>\n",
       "      <th>Survived</th>\n",
       "      <th>Pclass</th>\n",
       "      <th>Name</th>\n",
       "      <th>Gender</th>\n",
       "      <th>Age</th>\n",
       "      <th>Siblings/Spouses Aboard</th>\n",
       "      <th>Parents/Children Aboard</th>\n",
       "      <th>Fare</th>\n",
       "      <th>age_group</th>\n",
       "    </tr>\n",
       "  </thead>\n",
       "  <tbody>\n",
       "    <tr>\n",
       "      <th>273</th>\n",
       "      <td>1</td>\n",
       "      <td>1</td>\n",
       "      <td>Miss. Kornelia Theodosia Andrews</td>\n",
       "      <td>female</td>\n",
       "      <td>63.0</td>\n",
       "      <td>1</td>\n",
       "      <td>0</td>\n",
       "      <td>77.9583</td>\n",
       "      <td>61-70</td>\n",
       "    </tr>\n",
       "    <tr>\n",
       "      <th>480</th>\n",
       "      <td>1</td>\n",
       "      <td>3</td>\n",
       "      <td>Mrs. (Hedwig) Turkula</td>\n",
       "      <td>female</td>\n",
       "      <td>63.0</td>\n",
       "      <td>0</td>\n",
       "      <td>0</td>\n",
       "      <td>9.5875</td>\n",
       "      <td>61-70</td>\n",
       "    </tr>\n",
       "    <tr>\n",
       "      <th>561</th>\n",
       "      <td>0</td>\n",
       "      <td>3</td>\n",
       "      <td>Miss. (Marion Ogden) Meanwell</td>\n",
       "      <td>female</td>\n",
       "      <td>62.0</td>\n",
       "      <td>0</td>\n",
       "      <td>0</td>\n",
       "      <td>8.0500</td>\n",
       "      <td>61-70</td>\n",
       "    </tr>\n",
       "    <tr>\n",
       "      <th>825</th>\n",
       "      <td>1</td>\n",
       "      <td>1</td>\n",
       "      <td>Mrs. George Nelson (Martha Evelyn) Stone</td>\n",
       "      <td>female</td>\n",
       "      <td>62.0</td>\n",
       "      <td>0</td>\n",
       "      <td>0</td>\n",
       "      <td>80.0000</td>\n",
       "      <td>61-70</td>\n",
       "    </tr>\n",
       "  </tbody>\n",
       "</table>\n",
       "</div>"
      ],
      "text/plain": [
       "     Survived  Pclass                                      Name  Gender   Age  \\\n",
       "273         1       1          Miss. Kornelia Theodosia Andrews  female  63.0   \n",
       "480         1       3                     Mrs. (Hedwig) Turkula  female  63.0   \n",
       "561         0       3             Miss. (Marion Ogden) Meanwell  female  62.0   \n",
       "825         1       1  Mrs. George Nelson (Martha Evelyn) Stone  female  62.0   \n",
       "\n",
       "     Siblings/Spouses Aboard  Parents/Children Aboard     Fare age_group  \n",
       "273                        1                        0  77.9583     61-70  \n",
       "480                        0                        0   9.5875     61-70  \n",
       "561                        0                        0   8.0500     61-70  \n",
       "825                        0                        0  80.0000     61-70  "
      ]
     },
     "execution_count": 13,
     "metadata": {},
     "output_type": "execute_result"
    }
   ],
   "source": [
    "titanic_df[(titanic_df['Gender']=='female') & (titanic_df['Age'] > 61) ]"
   ]
  },
  {
   "cell_type": "code",
   "execution_count": 14,
   "id": "8e0323cc",
   "metadata": {},
   "outputs": [
    {
     "data": {
      "text/html": [
       "<div>\n",
       "<style scoped>\n",
       "    .dataframe tbody tr th:only-of-type {\n",
       "        vertical-align: middle;\n",
       "    }\n",
       "\n",
       "    .dataframe tbody tr th {\n",
       "        vertical-align: top;\n",
       "    }\n",
       "\n",
       "    .dataframe thead th {\n",
       "        text-align: right;\n",
       "    }\n",
       "</style>\n",
       "<table border=\"1\" class=\"dataframe\">\n",
       "  <thead>\n",
       "    <tr style=\"text-align: right;\">\n",
       "      <th></th>\n",
       "      <th>Survived</th>\n",
       "      <th>Pclass</th>\n",
       "      <th>Name</th>\n",
       "      <th>Gender</th>\n",
       "      <th>Age</th>\n",
       "      <th>Siblings/Spouses Aboard</th>\n",
       "      <th>Parents/Children Aboard</th>\n",
       "      <th>Fare</th>\n",
       "      <th>age_group</th>\n",
       "    </tr>\n",
       "  </thead>\n",
       "  <tbody>\n",
       "    <tr>\n",
       "      <th>85</th>\n",
       "      <td>0</td>\n",
       "      <td>3</td>\n",
       "      <td>Mr. William Neal Ford</td>\n",
       "      <td>male</td>\n",
       "      <td>16.0</td>\n",
       "      <td>1</td>\n",
       "      <td>3</td>\n",
       "      <td>34.3750</td>\n",
       "      <td>11-20</td>\n",
       "    </tr>\n",
       "    <tr>\n",
       "      <th>434</th>\n",
       "      <td>1</td>\n",
       "      <td>2</td>\n",
       "      <td>Mrs. Sidney (Emily Hocking) Richards</td>\n",
       "      <td>female</td>\n",
       "      <td>24.0</td>\n",
       "      <td>2</td>\n",
       "      <td>3</td>\n",
       "      <td>18.7500</td>\n",
       "      <td>21-30</td>\n",
       "    </tr>\n",
       "    <tr>\n",
       "      <th>732</th>\n",
       "      <td>0</td>\n",
       "      <td>3</td>\n",
       "      <td>Mrs. Edward (Margaret Ann Watson) Ford</td>\n",
       "      <td>female</td>\n",
       "      <td>48.0</td>\n",
       "      <td>1</td>\n",
       "      <td>3</td>\n",
       "      <td>34.3750</td>\n",
       "      <td>41-50</td>\n",
       "    </tr>\n",
       "    <tr>\n",
       "      <th>770</th>\n",
       "      <td>1</td>\n",
       "      <td>2</td>\n",
       "      <td>Mrs. Elizabeth (Eliza Needs) Hocking</td>\n",
       "      <td>female</td>\n",
       "      <td>54.0</td>\n",
       "      <td>1</td>\n",
       "      <td>3</td>\n",
       "      <td>23.0000</td>\n",
       "      <td>51-60</td>\n",
       "    </tr>\n",
       "    <tr>\n",
       "      <th>854</th>\n",
       "      <td>1</td>\n",
       "      <td>3</td>\n",
       "      <td>Mrs. Solomon (Latifa Qurban) Baclini</td>\n",
       "      <td>female</td>\n",
       "      <td>24.0</td>\n",
       "      <td>0</td>\n",
       "      <td>3</td>\n",
       "      <td>19.2583</td>\n",
       "      <td>21-30</td>\n",
       "    </tr>\n",
       "  </tbody>\n",
       "</table>\n",
       "</div>"
      ],
      "text/plain": [
       "     Survived  Pclass                                    Name  Gender   Age  \\\n",
       "85          0       3                   Mr. William Neal Ford    male  16.0   \n",
       "434         1       2    Mrs. Sidney (Emily Hocking) Richards  female  24.0   \n",
       "732         0       3  Mrs. Edward (Margaret Ann Watson) Ford  female  48.0   \n",
       "770         1       2    Mrs. Elizabeth (Eliza Needs) Hocking  female  54.0   \n",
       "854         1       3    Mrs. Solomon (Latifa Qurban) Baclini  female  24.0   \n",
       "\n",
       "     Siblings/Spouses Aboard  Parents/Children Aboard     Fare age_group  \n",
       "85                         1                        3  34.3750     11-20  \n",
       "434                        2                        3  18.7500     21-30  \n",
       "732                        1                        3  34.3750     41-50  \n",
       "770                        1                        3  23.0000     51-60  \n",
       "854                        0                        3  19.2583     21-30  "
      ]
     },
     "execution_count": 14,
     "metadata": {},
     "output_type": "execute_result"
    }
   ],
   "source": [
    "titanic_df[(titanic_df['Parents/Children Aboard'] == 3) ]"
   ]
  },
  {
   "cell_type": "markdown",
   "id": "02cda3ca",
   "metadata": {},
   "source": [
    "# Start of your input:"
   ]
  },
  {
   "cell_type": "markdown",
   "id": "e927063b",
   "metadata": {},
   "source": [
    "Q2 has 4 sub-questions, Q5 has 2 sub-questions, and Q9 has 2 sub-questions. With the subquestions, there are 15 questions."
   ]
  },
  {
   "cell_type": "markdown",
   "id": "53cfb905",
   "metadata": {},
   "source": [
    "# Q1. [Bar plot] Distribution of Pclass in percentage"
   ]
  },
  {
   "cell_type": "markdown",
   "id": "481878b9",
   "metadata": {},
   "source": [
    "- Create a bar plot using pandas .plot with kind=\"bar\" in orange color.\n",
    "- Create the grid with a grid style as below.\n",
    "- <span style=\"color:blue\">Do not forget to add all the details (e.g., title, labels, grid, description, legends if any)</span>."
   ]
  },
  {
   "cell_type": "code",
   "execution_count": 22,
   "id": "5c7abae2",
   "metadata": {
    "scrolled": true
   },
   "outputs": [
    {
     "data": {
      "image/png": "[encoded data removed]",
      "text/plain": [
       "<Figure size 432x288 with 1 Axes>"
      ]
     },
     "metadata": {
      "needs_background": "light"
     },
     "output_type": "display_data"
    }
   ],
   "source": [
    "# Q1-1> Write your code here.\n",
    "pc = ((titanic_df['Pclass'].value_counts(normalize=True))*100).sort_index()\n",
    "pc.plot(kind='bar', color='orange') \n",
    "plt.title(\"Percentage Distribution of Pclass\", fontsize=14);\n",
    "plt.ylabel('Percentage') # set the y label\n",
    "plt.xlabel('Pclass') # set the x label\n",
    "# set the grid \n",
    "plt.grid(color = \"grey\", linewidth = \"2\")\n",
    "# The figure below shows the grid style and the positions of labels and title.\n"
   ]
  },
  {
   "attachments": {
    "q1.png": {
     "image/png": "[encoded data removed]"
    }
   },
   "cell_type": "markdown",
   "id": "1c1beda3",
   "metadata": {},
   "source": [
    "![q1.png](attachment:q1.png)"
   ]
  },
  {
   "cell_type": "markdown",
   "id": "1cefa725",
   "metadata": {},
   "source": [
    "Most passengers belong to Pclass 3 (54.9%). while Pclass 1 has (27.7%) and Pclass 2 has (20.7%) passengers out of 887 total."
   ]
  },
  {
   "cell_type": "markdown",
   "id": "db3605fd",
   "metadata": {},
   "source": [
    "# Q2. [Bar plot] Which Pclass had a better chance of survival?"
   ]
  },
  {
   "cell_type": "markdown",
   "id": "7f93fd19",
   "metadata": {},
   "source": [
    "* Use color 'green' for survivors and 'tab:olive' for non-survivors. Choose your own style for the grid.\n",
    "- Q2-1. Use plt.bar(). Create stacked bar charts, vertical, with counts on y-axis. \n",
    "- Q2-2. Use plt.bar(). Create stacked bar charts, horizontal, with percentage of survival rate on x-axis. \n",
    "- Q2-3. Use Seaborn displot(). Create stacked bar charts, vertical, with counts on y-axis. \n",
    "- Q2-4. Use Seaborn. Create grouped bar charts, horizontal, with \"percentage on x-axis of survival rates\". No need to display non-survivors but the grouped bar charts display gender. Use color to distinguish gender.\n",
    "- <span style=\"color:blue\">Do not forget to add all the details (e.g., title, labels, grid, description, legends if any)</span>."
   ]
  },
  {
   "cell_type": "code",
   "execution_count": 28,
   "id": "05d315a3",
   "metadata": {},
   "outputs": [
    {
     "data": {
      "image/png": "[encoded data removed]",
      "text/plain": [
       "<Figure size 432x288 with 1 Axes>"
      ]
     },
     "metadata": {
      "needs_background": "light"
     },
     "output_type": "display_data"
    }
   ],
   "source": [
    "# Q2-1> \n",
    "sur_pclass =  titanic_df[titanic_df.Survived==True].groupby(['Pclass']).size().values\n",
    "n_sur_pclass = titanic_df[titanic_df.Survived==False].groupby(['Pclass']).size().values\n",
    "plt.figure(figsize = (6,4))\n",
    "plt.bar(range(len(sur_pclass)), sur_pclass, label='Survivors', color='green')\n",
    "plt.bar(range(len(n_sur_pclass)), n_sur_pclass, bottom=sur_pclass, label='Non-Survivors', color='tab:olive')\n",
    "plt.xticks([0, 1,2], [\"P1\",\"P2\",\"P3\"])\n",
    "plt.legend(loc='upper left')\n",
    "plt.title(\"Stacked bar chart for the Count of survivors by Pclass\",fontsize=14)\n",
    "plt.xlabel(\"Pclass\")\n",
    "plt.ylabel(\"Count of survivors\")\n",
    "plt.grid(color = \"grey\", linewidth = \"0.3\", linestyle = \"-\")\n",
    "plt.show()"
   ]
  },
  {
   "cell_type": "markdown",
   "id": "daa7c2ad",
   "metadata": {},
   "source": [
    "P1 has best rate for survivals."
   ]
  },
  {
   "cell_type": "code",
   "execution_count": 14,
   "id": "2164fe2a",
   "metadata": {},
   "outputs": [
    {
     "name": "stdout",
     "output_type": "stream",
     "text": [
      "Pclass  Survived\n",
      "1       0            80\n",
      "        1           136\n",
      "2       0            97\n",
      "        1            87\n",
      "3       0           368\n",
      "        1           119\n",
      "Name: Pclass, dtype: int64 \n",
      " Pclass\n",
      "1    216\n",
      "2    184\n",
      "3    487\n",
      "Name: Pclass, dtype: int64 \n",
      " Pclass  Survived\n",
      "1       0           0.370370\n",
      "        1           0.629630\n",
      "2       0           0.527174\n",
      "        1           0.472826\n",
      "3       0           0.755647\n",
      "        1           0.244353\n",
      "Name: Pclass, dtype: float64\n"
     ]
    }
   ],
   "source": [
    "# Check the counts of groupings\n",
    "tempc = titanic_df.groupby(['Pclass','Survived'])['Pclass'].count()\n",
    "temps = titanic_df.groupby(['Pclass'])['Pclass'].size()\n",
    "tdiv = tempc/temps\n",
    "print(tempc,\"\\n\",temps,\"\\n\",tdiv)"
   ]
  },
  {
   "cell_type": "code",
   "execution_count": 31,
   "id": "3fff917c",
   "metadata": {},
   "outputs": [
    {
     "data": {
      "image/png": "[encoded data removed]",
      "text/plain": [
       "<Figure size 432x288 with 1 Axes>"
      ]
     },
     "metadata": {
      "needs_background": "light"
     },
     "output_type": "display_data"
    }
   ],
   "source": [
    "# Q2-2\n",
    "sm = sur_pclass + n_sur_pclass \n",
    "def percentage_calc(val, total, format_percent = False):\n",
    "    percentage = np.divide(val, total, dtype=float)\n",
    "    if format_percent:\n",
    "        percentage = as_percent(percentage)\n",
    "    return percentage\n",
    "\n",
    "sur_p = percentage_calc(sur_pclass, sm)*100 \n",
    "n_sur_p = percentage_calc(n_sur_pclass, sm)*100 \n",
    "\n",
    "plt.barh(range(len(sur_p)), sur_p, label='Survivors', color='green')\n",
    "plt.barh(range(len(n_sur_p)), n_sur_p, left=sur_p,\n",
    "         label='Non-Survivors', color='tab:olive')\n",
    "\n",
    "plt.yticks([0, 1, 2], [\"P1\",\"P2\",\"P3\"])\n",
    "plt.legend(loc='upper right')\n",
    "plt.title(\"Horizontal Stacked bar chart for the Count of survivors by pclass\",fontsize=14)\n",
    "plt.xlabel(\"Percentage\")\n",
    "plt.ylabel(\"Pclass\")\n",
    "plt.grid(color = \"grey\", linewidth = \"0.3\", linestyle = \"-\")\n",
    "\n",
    "#from cycler import cycler\n",
    "#plt.rc('axes', prop_cycle=(cycler('color', ['tab:olive', 'green'])))\n",
    "#tempc = titanic_df.groupby(['Pclass','Survived'])['Pclass'].count()\n",
    "#temps = titanic_df.groupby(['Pclass'])['Pclass'].size()\n",
    "#tdiv = 100*(tempc/temps)\n",
    "#tdiv.unstack().plot(kind='barh', stacked='True')\n",
    "#plt.xlabel('survival rate %')"
   ]
  },
  {
   "cell_type": "markdown",
   "id": "a0dbef83",
   "metadata": {},
   "source": [
    "maximum survival rate is in class 1 and goes on decreasing till class 3."
   ]
  },
  {
   "cell_type": "code",
   "execution_count": 34,
   "id": "0a429d5d",
   "metadata": {},
   "outputs": [
    {
     "data": {
      "image/png": "[encoded data removed]",
      "text/plain": [
       "<Figure size 411.875x360 with 1 Axes>"
      ]
     },
     "metadata": {
      "needs_background": "light"
     },
     "output_type": "display_data"
    }
   ],
   "source": [
    "# Q2-3> Write your code here. Use Seaborn.\n",
    "from cycler import cycler\n",
    "plt.rc('axes', prop_cycle=(cycler('color', ['tab:olive', 'green'])))\n",
    "sns.displot(data=titanic_df, x=\"Pclass\", hue=\"Survived\", multiple=\"stack\")\n",
    "plt.xticks([1,2,3])\n",
    "plt.title(\"Survivor count by Pclass\",fontsize=14)\n",
    "plt.grid(color = \"grey\", linewidth = \"0.3\", linestyle = \"-\")"
   ]
  },
  {
   "cell_type": "markdown",
   "id": "331226c2",
   "metadata": {},
   "source": [
    "Survivors from Pclass 1 are 136, Pclass 2 are 87 and Pclass 3 are 119. "
   ]
  },
  {
   "cell_type": "code",
   "execution_count": 35,
   "id": "a835c218",
   "metadata": {},
   "outputs": [
    {
     "data": {
      "image/png": "[encoded data removed]",
      "text/plain": [
       "<Figure size 432x288 with 1 Axes>"
      ]
     },
     "metadata": {
      "needs_background": "light"
     },
     "output_type": "display_data"
    }
   ],
   "source": [
    "# Q2-4> Write your code here. Use Seaborn.\n",
    "sb.barplot(data=titanic_df, x=\"Survived\", y=\"Pclass\", hue=\"Gender\", orient=\"h\", estimator=lambda x: sum(x)*100.0/len(x))\n",
    "plt.grid(color = \"grey\", linewidth = \"0.3\", linestyle = \"-\")\n",
    "plt.title(\"Pclass survived rate by gender\",fontsize=14)\n",
    "plt.xlabel(\"Survival rate in percentage\")\n",
    "plt.show()"
   ]
  },
  {
   "cell_type": "markdown",
   "id": "07e50daa",
   "metadata": {},
   "source": [
    "Highest survival rates for both genders are in passenger class 1. Within each Pclass. In passenger class2, gap between genders is biggest. There exist 90% or more survial rate for females in passenger classes 1 and 2. "
   ]
  },
  {
   "cell_type": "markdown",
   "id": "d8da6f1a",
   "metadata": {},
   "source": [
    "# Q3. [Bar plot] Which age_group had a better chance of survival considering the gender?"
   ]
  },
  {
   "cell_type": "markdown",
   "id": "96052f04",
   "metadata": {},
   "source": [
    "- Use Seaborn. Create grouped bar charts, vertical, with \"percentage of survival rates on y-axis and age_group on x-axis\".\n",
    "- Refer to 'Bin the continuous values into discrete intervals' described above.\n",
    "- Hue represents gender. \n",
    "- <span style=\"color:blue\">Do not forget to add all the details (e.g., title, labels, grid, description, legends if any)</span>."
   ]
  },
  {
   "cell_type": "code",
   "execution_count": 36,
   "id": "0f4153b0",
   "metadata": {},
   "outputs": [
    {
     "data": {
      "text/plain": [
       "Text(0, 0.5, 'Percentage of survival rate')"
      ]
     },
     "execution_count": 36,
     "metadata": {},
     "output_type": "execute_result"
    },
    {
     "data": {
      "image/png": "[encoded data removed]",
      "text/plain": [
       "<Figure size 432x288 with 1 Axes>"
      ]
     },
     "metadata": {
      "needs_background": "light"
     },
     "output_type": "display_data"
    }
   ],
   "source": [
    "# Q3> Write your code here. Use Seaborn.\n",
    "age_labels = ['0-10', '11-20', '21-30', '31-40', '41-50', '51-60', '61-70', '71-80']\n",
    "titanic_df['age_group'] = pd.cut(titanic_df.Age, range(0, 81, 10), labels=age_labels)\n",
    "\n",
    "sb.barplot(data=titanic_df,\n",
    "            x=\"age_group\",\n",
    "            y=\"Survived\",\n",
    "            hue=\"Gender\", \n",
    "           estimator = lambda x: sum(x)*100.0/len(x))\n",
    "plt.title(\"Bar plot of survivors on the basis of age group and gender\",fontsize=14)\n",
    "plt.grid(color = \"grey\", linewidth = \"0.1\", linestyle = \"-\")\n",
    "plt.xlabel(\"Pclass\")\n",
    "plt.ylabel(\"Percentage of survival rate\")"
   ]
  },
  {
   "cell_type": "markdown",
   "id": "ba1cbf38",
   "metadata": {},
   "source": [
    "females of age group 51-60 has best chance of survival. males of age group 0-10 have best chance of survival."
   ]
  },
  {
   "cell_type": "markdown",
   "id": "349a617a",
   "metadata": {},
   "source": [
    "# Q4. [Pie plot] Distribution of Pclass in percentage."
   ]
  },
  {
   "cell_type": "markdown",
   "id": "df29571d",
   "metadata": {},
   "source": [
    "- Use 3 different colors to color the pie plot for the three Pclasses.\n",
    "- Start the pie start angle from 0 degrees.\n",
    "- Round to two decimal places to show percentage numbers and add '%' after the number.\n",
    "- Use the 'explode' parameter to distinguish the largest distribution of Pclass.\n",
    "- <span style=\"color:blue\">Do not forget to add all the details (e.g., title, labels, grid, description, legends if any)</span>."
   ]
  },
  {
   "cell_type": "code",
   "execution_count": 51,
   "id": "a5335431",
   "metadata": {
    "scrolled": false
   },
   "outputs": [
    {
     "data": {
      "text/plain": [
       "Text(0.5, 1.0, 'Passenger class Distribution')"
      ]
     },
     "execution_count": 51,
     "metadata": {},
     "output_type": "execute_result"
    },
    {
     "data": {
      "image/png": "[encoded data removed]",
      "text/plain": [
       "<Figure size 432x288 with 1 Axes>"
      ]
     },
     "metadata": {},
     "output_type": "display_data"
    }
   ],
   "source": [
    "# Q4> Write your code here. \n",
    "my_e = [0.2, 0, 0]\n",
    "titanic_df['Pclass'].value_counts().plot(kind='pie', startangle=0, autopct='%.2f%%', explode=my_e, colors = [\"darkorange\", \"crimson\", \"hotpink\"])\n",
    "plt.title(\"Passenger class Distribution\", fontsize=14)"
   ]
  },
  {
   "cell_type": "markdown",
   "id": "8859089f",
   "metadata": {},
   "source": [
    "In passenger class 3, there were 50% or more passengers. "
   ]
  },
  {
   "cell_type": "markdown",
   "id": "9d1f66b2",
   "metadata": {},
   "source": [
    "# Q5. [Histogram] Distribution of Siblings/Spouses Aboard and Parents/Children Aboard."
   ]
  },
  {
   "cell_type": "markdown",
   "id": "5271ff6f",
   "metadata": {},
   "source": [
    "- Q5-1. Create a histogram of the distribution of Siblings/Spouses Aboard with 4 bins.\n",
    "- Q5-2. Create a histogram of the distribution of Parents/Children Aboard with 3 bins.\n",
    "- <span style=\"color:blue\">Do not forget to add all the details (e.g., title, labels, grid, description, legends if any)</span>."
   ]
  },
  {
   "cell_type": "code",
   "execution_count": 153,
   "id": "aa13ca3e",
   "metadata": {
    "scrolled": true
   },
   "outputs": [
    {
     "data": {
      "image/png": "[encoded data removed]",
      "text/plain": [
       "<Figure size 432x288 with 1 Axes>"
      ]
     },
     "metadata": {
      "needs_background": "light"
     },
     "output_type": "display_data"
    }
   ],
   "source": [
    "# Q5-1> Write your code here.\n",
    "titanic_df['Siblings/Spouses Aboard'].plot(kind='hist', bins=4)\n",
    "plt.title(\"Distribution of Siblings/Spouses Aboard\", fontsize=14) \n",
    "plt.ylabel(\"Count\") \n",
    "plt.xlabel(\"Siblings/Spouses Aboard\")\n",
    "plt.grid(color = \"grey\", linewidth = \"0.3\", linestyle = \"-\")"
   ]
  },
  {
   "cell_type": "markdown",
   "id": "e2d6c4da",
   "metadata": {},
   "source": [
    "841 passengers belong to bin 0-2, which means most of the passengers have 0-2 siblings/spouses abroad. 23 passengers belong to bin 6-8. "
   ]
  },
  {
   "cell_type": "code",
   "execution_count": 54,
   "id": "07b5a296",
   "metadata": {},
   "outputs": [
    {
     "data": {
      "text/plain": [
       "0    604\n",
       "1    209\n",
       "2     28\n",
       "4     18\n",
       "3     16\n",
       "8      7\n",
       "5      5\n",
       "Name: Siblings/Spouses Aboard, dtype: int64"
      ]
     },
     "execution_count": 54,
     "metadata": {},
     "output_type": "execute_result"
    }
   ],
   "source": [
    "titanic_df['Siblings/Spouses Aboard'].value_counts()"
   ]
  },
  {
   "cell_type": "code",
   "execution_count": 155,
   "id": "51a78b2c",
   "metadata": {
    "scrolled": true
   },
   "outputs": [
    {
     "data": {
      "image/png": "[encoded data removed]",
      "text/plain": [
       "<Figure size 432x288 with 1 Axes>"
      ]
     },
     "metadata": {
      "needs_background": "light"
     },
     "output_type": "display_data"
    }
   ],
   "source": [
    "# Q5-2> Write your code here.\n",
    "titanic_df['Parents/Children Aboard'].plot(kind='hist', bins=3)\n",
    "plt.title(\"Distribution of Parents/Children Aboard\", fontsize=14) \n",
    "plt.ylabel('Count') \n",
    "plt.xlabel('Parents/Children Aboard')\n",
    "plt.grid(color = \"grey\", linewidth = \"0.3\", linestyle = \"-\")"
   ]
  },
  {
   "cell_type": "markdown",
   "id": "ffdc7700",
   "metadata": {},
   "source": [
    "872 passengers belong to bin 0-2, which means most of the passengers have 0-2 parents/childern abroad. 10 passengers belong to bin 4-6."
   ]
  },
  {
   "cell_type": "code",
   "execution_count": 52,
   "id": "515f332a",
   "metadata": {},
   "outputs": [
    {
     "data": {
      "text/plain": [
       "0    674\n",
       "1    118\n",
       "2     80\n",
       "3      5\n",
       "5      5\n",
       "4      4\n",
       "6      1\n",
       "Name: Parents/Children Aboard, dtype: int64"
      ]
     },
     "execution_count": 52,
     "metadata": {},
     "output_type": "execute_result"
    }
   ],
   "source": [
    "titanic_df['Parents/Children Aboard'].value_counts()"
   ]
  },
  {
   "cell_type": "markdown",
   "id": "6eda828e",
   "metadata": {},
   "source": [
    "# Q6. [Boxplot] Which ss_group ('0', '1-2', '3-6', and '7-8') has survived more?"
   ]
  },
  {
   "cell_type": "markdown",
   "id": "9c453813",
   "metadata": {},
   "source": [
    "- Refer to how the continuous variable age is categorized into age_group from lecture and section above-'Bin the continuous values into discrete intervals'. Use pd.cut().\n",
    "- Categorize Siblings/Spouses Aboard into 4 bins, '0', '1-2', '3-6', and '7-8' and name the column ss_group.\n",
    "- Show mean value with a marker of your style.\n",
    "- With the ss_group, draw box plots regarding ss_group (x) and age (y). Use color to present survivors/non-survivors. Which ss_group ('0', '1-2', '3-6', and '7-8') has survived more?\n",
    "- <span style=\"color:blue\">Do not forget to add all the details (e.g., title, labels, grid, description, legends if any)</span>."
   ]
  },
  {
   "cell_type": "code",
   "execution_count": 56,
   "id": "491db43c",
   "metadata": {
    "scrolled": true
   },
   "outputs": [
    {
     "data": {
      "text/plain": [
       "0.5253664036076663"
      ]
     },
     "execution_count": 56,
     "metadata": {},
     "output_type": "execute_result"
    }
   ],
   "source": [
    "# Use pd.cut to categorize the 'Siblings/Spouses Aboard' into bins with '0', '1-2', '3-6', and '7-8'.\n",
    "# labels for siblings or spouse\n",
    "# ss_labels = ['0', '1-2', '3-6', '7-8']\n",
    "# > Write your code here. \n",
    "ss_labels = ['0', '1-2', '3-6', '7-8']\n",
    "titanic_df['ss_group'] = pd.cut(titanic_df['Siblings/Spouses Aboard'], bins=[-1,.9,2,6,8], labels=ss_labels)\n",
    "#titanic_df[(titanic_df['Siblings/Spouses Aboard'] == 4) ]\n",
    "(titanic_df['Siblings/Spouses Aboard']).mean()"
   ]
  },
  {
   "cell_type": "code",
   "execution_count": 57,
   "id": "cdb37d21",
   "metadata": {},
   "outputs": [
    {
     "data": {
      "text/html": [
       "<div>\n",
       "<style scoped>\n",
       "    .dataframe tbody tr th:only-of-type {\n",
       "        vertical-align: middle;\n",
       "    }\n",
       "\n",
       "    .dataframe tbody tr th {\n",
       "        vertical-align: top;\n",
       "    }\n",
       "\n",
       "    .dataframe thead th {\n",
       "        text-align: right;\n",
       "    }\n",
       "</style>\n",
       "<table border=\"1\" class=\"dataframe\">\n",
       "  <thead>\n",
       "    <tr style=\"text-align: right;\">\n",
       "      <th></th>\n",
       "      <th>Survived</th>\n",
       "      <th>Pclass</th>\n",
       "      <th>Name</th>\n",
       "      <th>Gender</th>\n",
       "      <th>Age</th>\n",
       "      <th>Siblings/Spouses Aboard</th>\n",
       "      <th>Parents/Children Aboard</th>\n",
       "      <th>Fare</th>\n",
       "      <th>age_group</th>\n",
       "      <th>ss_group</th>\n",
       "    </tr>\n",
       "  </thead>\n",
       "  <tbody>\n",
       "    <tr>\n",
       "      <th>118</th>\n",
       "      <td>0</td>\n",
       "      <td>3</td>\n",
       "      <td>Miss. Ellis Anna Maria Andersson</td>\n",
       "      <td>female</td>\n",
       "      <td>2.0</td>\n",
       "      <td>4</td>\n",
       "      <td>2</td>\n",
       "      <td>31.2750</td>\n",
       "      <td>0-10</td>\n",
       "      <td>3-6</td>\n",
       "    </tr>\n",
       "    <tr>\n",
       "      <th>119</th>\n",
       "      <td>0</td>\n",
       "      <td>2</td>\n",
       "      <td>Mr. Stanley George Hickman</td>\n",
       "      <td>male</td>\n",
       "      <td>21.0</td>\n",
       "      <td>2</td>\n",
       "      <td>0</td>\n",
       "      <td>73.5000</td>\n",
       "      <td>21-30</td>\n",
       "      <td>1-2</td>\n",
       "    </tr>\n",
       "    <tr>\n",
       "      <th>372</th>\n",
       "      <td>0</td>\n",
       "      <td>3</td>\n",
       "      <td>Miss. Stina Viola Palsson</td>\n",
       "      <td>female</td>\n",
       "      <td>3.0</td>\n",
       "      <td>3</td>\n",
       "      <td>1</td>\n",
       "      <td>21.0750</td>\n",
       "      <td>0-10</td>\n",
       "      <td>3-6</td>\n",
       "    </tr>\n",
       "    <tr>\n",
       "      <th>838</th>\n",
       "      <td>1</td>\n",
       "      <td>1</td>\n",
       "      <td>Miss. Augusta Serepeca</td>\n",
       "      <td>female</td>\n",
       "      <td>30.0</td>\n",
       "      <td>0</td>\n",
       "      <td>0</td>\n",
       "      <td>31.0000</td>\n",
       "      <td>21-30</td>\n",
       "      <td>0</td>\n",
       "    </tr>\n",
       "    <tr>\n",
       "      <th>845</th>\n",
       "      <td>1</td>\n",
       "      <td>1</td>\n",
       "      <td>Mrs. Samuel L (Edwiga Grabowska) Goldenberg</td>\n",
       "      <td>female</td>\n",
       "      <td>40.0</td>\n",
       "      <td>1</td>\n",
       "      <td>0</td>\n",
       "      <td>89.1042</td>\n",
       "      <td>31-40</td>\n",
       "      <td>1-2</td>\n",
       "    </tr>\n",
       "    <tr>\n",
       "      <th>846</th>\n",
       "      <td>0</td>\n",
       "      <td>3</td>\n",
       "      <td>Master. Sigvard Harald Elias Andersson</td>\n",
       "      <td>male</td>\n",
       "      <td>4.0</td>\n",
       "      <td>4</td>\n",
       "      <td>2</td>\n",
       "      <td>31.2750</td>\n",
       "      <td>0-10</td>\n",
       "      <td>3-6</td>\n",
       "    </tr>\n",
       "    <tr>\n",
       "      <th>859</th>\n",
       "      <td>0</td>\n",
       "      <td>3</td>\n",
       "      <td>Miss. Dorothy Edith Sage</td>\n",
       "      <td>female</td>\n",
       "      <td>14.0</td>\n",
       "      <td>8</td>\n",
       "      <td>2</td>\n",
       "      <td>69.5500</td>\n",
       "      <td>11-20</td>\n",
       "      <td>7-8</td>\n",
       "    </tr>\n",
       "  </tbody>\n",
       "</table>\n",
       "</div>"
      ],
      "text/plain": [
       "     Survived  Pclass                                         Name  Gender  \\\n",
       "118         0       3             Miss. Ellis Anna Maria Andersson  female   \n",
       "119         0       2                   Mr. Stanley George Hickman    male   \n",
       "372         0       3                    Miss. Stina Viola Palsson  female   \n",
       "838         1       1                       Miss. Augusta Serepeca  female   \n",
       "845         1       1  Mrs. Samuel L (Edwiga Grabowska) Goldenberg  female   \n",
       "846         0       3       Master. Sigvard Harald Elias Andersson    male   \n",
       "859         0       3                     Miss. Dorothy Edith Sage  female   \n",
       "\n",
       "      Age  Siblings/Spouses Aboard  Parents/Children Aboard     Fare  \\\n",
       "118   2.0                        4                        2  31.2750   \n",
       "119  21.0                        2                        0  73.5000   \n",
       "372   3.0                        3                        1  21.0750   \n",
       "838  30.0                        0                        0  31.0000   \n",
       "845  40.0                        1                        0  89.1042   \n",
       "846   4.0                        4                        2  31.2750   \n",
       "859  14.0                        8                        2  69.5500   \n",
       "\n",
       "    age_group ss_group  \n",
       "118      0-10      3-6  \n",
       "119     21-30      1-2  \n",
       "372      0-10      3-6  \n",
       "838     21-30        0  \n",
       "845     31-40      1-2  \n",
       "846      0-10      3-6  \n",
       "859     11-20      7-8  "
      ]
     },
     "execution_count": 57,
     "metadata": {},
     "output_type": "execute_result"
    }
   ],
   "source": [
    "# Check the rows whether 'Siblings/Spouses Aboard' value matches the bins with titanic_df.iloc[].\n",
    "# Check rows 118, 119, 372, 838, 845, 846, 859.\n",
    "# > Write your code here. \n",
    "titanic_df.iloc[[118, 119, 372, 838, 845, 846, 859], :]"
   ]
  },
  {
   "cell_type": "code",
   "execution_count": 58,
   "id": "9818ab01",
   "metadata": {
    "scrolled": false
   },
   "outputs": [
    {
     "data": {
      "image/png": "[encoded data removed]",
      "text/plain": [
       "<Figure size 864x360 with 1 Axes>"
      ]
     },
     "metadata": {
      "needs_background": "light"
     },
     "output_type": "display_data"
    }
   ],
   "source": [
    "# Q6> Write your code here for the boxplot. \n",
    "# define plot \n",
    "plt.figure(figsize = (12,5))\n",
    "sb.boxplot(x=\"ss_group\", y=\"Age\", hue=\"Survived\", data=titanic_df, \n",
    "           showmeans = True, \n",
    "           meanprops={\"marker\":\"o\",\n",
    "                       \"markerfacecolor\":\"white\", \n",
    "                       \"markeredgecolor\":\"black\",\n",
    "                      \"markersize\":\"10\"},\n",
    "           palette=\"Set1\")\n",
    "#place legend in center right of plot\n",
    "plt.title('Boxplot of distribution of survived passengers by Siblings and Spouses Abroad')\n",
    "plt.legend(loc='upper right', title='Survived')\n",
    "plt.grid(color = \"grey\", linewidth = \"0.3\", linestyle = \"-\")"
   ]
  },
  {
   "cell_type": "markdown",
   "id": "5b2fc66b",
   "metadata": {},
   "source": [
    "age group (ss_group) 1-2 has survived more."
   ]
  },
  {
   "cell_type": "markdown",
   "id": "785cb9fd",
   "metadata": {},
   "source": [
    "# Q7. [Scatterplot] For the passengers younger than 20, is there a difference, by gender, between survivors who had no sibling/spouse vs. who had one sibling/spouse? What about vs. more than one sibling/spouse?"
   ]
  },
  {
   "cell_type": "markdown",
   "id": "b69d48bd",
   "metadata": {},
   "source": [
    "- Use Seaborn's relplot() to draw two scatterplots with age and Siblings/Spouses Aboard. Left view showing male and right view showing female.\n",
    "- Hue represents survivors/non-survivors, size represents fare, and different shapes represent Pclass.\n",
    "- Check the difference between survivors by gender, age, Siblings/Spouses Aboard, fare, and Pclass information.\n",
    "- For the passengers younger than 20, is there a difference, by gender, between survivors who had no siblings vs. who had one sibling?\n",
    "- <span style=\"color:blue\">Do not forget to add all the details (e.g., title, labels, grid, description, legends if any)</span>."
   ]
  },
  {
   "cell_type": "code",
   "execution_count": 59,
   "id": "48892da1",
   "metadata": {
    "scrolled": false
   },
   "outputs": [
    {
     "data": {
      "image/png": "[encoded data removed]",
      "text/plain": [
       "<Figure size 779.875x360 with 2 Axes>"
      ]
     },
     "metadata": {
      "needs_background": "light"
     },
     "output_type": "display_data"
    }
   ],
   "source": [
    "# Q7> Write your code here. \n",
    "sb.relplot(\n",
    "    data=titanic_df[titanic_df.Age < 20], x=\"Age\", y=\"Siblings/Spouses Aboard\", size=\"Fare\", sizes=(10, 200),\n",
    "    col=\"Gender\", hue=\"Survived\", style=\"Pclass\",\n",
    "    alpha=0.7,\n",
    "    kind=\"scatter\"\n",
    ");\n",
    "plt.title(\"Younger passengers survival rate comparison\")\n",
    "plt.grid(color = \"grey\", linewidth = \"0.3\", linestyle = \"-\")\n",
    "plt.show()"
   ]
  },
  {
   "cell_type": "markdown",
   "id": "35932d4d",
   "metadata": {},
   "source": [
    "100% survival rate:\n",
    "Gender 'male', Siblings/Spouses Aboard 0, age '0-10'\n",
    "Gender 'male', Siblings/Spouses Aboard 1, age '0-10'\n",
    "\n",
    "higer survival rates:\n",
    "Gender 'male', Siblings/Spouses Aboard (0,1,2), age '0-10'\n",
    "Gender 'female', Siblings/Spouses Aboard (0,1,2), age '10-20'\n",
    "\n",
    "Regardless of gender, fare, passenger class, and age, those belonging to ss_group 5 to 8 have not survived. "
   ]
  },
  {
   "cell_type": "markdown",
   "id": "819e3aa4",
   "metadata": {},
   "source": [
    "# Q8. [Scatterplot] A plot with age, fare, ss_group, and survivors/non-survivors."
   ]
  },
  {
   "cell_type": "markdown",
   "id": "36935f21",
   "metadata": {},
   "source": [
    "- Use Seaborn scatterplot() to draw a scatterplot with age (x) and fare (y).\n",
    "- Hue represents ss_group, size represents ss_group with bigger values showing bigger circles, and survivor/non-survivor in different shapes.\n",
    "- Use size_order = ['7-8', '3-6', '1-2', '0'] for size ordering.\n",
    "- Use style_order to show O for survivors and X for non-survivors.\n",
    "- In your description, write your overall explanation of the survivors and non-survivors by age, fare, and sibling/spouse aboard information.\n",
    "- <span style=\"color:blue\">Do not forget to add all the details (e.g., title, labels, grid, description, legends if any)</span>."
   ]
  },
  {
   "cell_type": "code",
   "execution_count": 60,
   "id": "5bc8d2f2",
   "metadata": {
    "scrolled": false
   },
   "outputs": [
    {
     "data": {
      "text/plain": [
       "<matplotlib.legend.Legend at 0x20dd76362e0>"
      ]
     },
     "execution_count": 60,
     "metadata": {},
     "output_type": "execute_result"
    },
    {
     "data": {
      "image/png": "[encoded data removed]",
      "text/plain": [
       "<Figure size 1152x648 with 1 Axes>"
      ]
     },
     "metadata": {
      "needs_background": "light"
     },
     "output_type": "display_data"
    }
   ],
   "source": [
    "#a=[\"X\",\"O\"]\n",
    "plt.figure(figsize = (16,9))\n",
    "# Q8> Write your code here. \n",
    "sb.scatterplot(x=\"Age\", y=\"Fare\", hue=\"ss_group\", \n",
    "               size=\"ss_group\", sizes=(100, 500), size_order = ['7-8', '3-6', '1-2', '0'], \n",
    "               style=\"Survived\",style_order=[1,0], data=titanic_df);\n",
    "\n",
    "plt.grid(color = \"grey\", linewidth = \"0.3\", linestyle = \"-\")\n",
    "plt.legend(bbox_to_anchor=(1.56, 1.0), loc='upper right')"
   ]
  },
  {
   "cell_type": "markdown",
   "id": "d5155a22",
   "metadata": {},
   "source": [
    "Most survivors belong to 0-1 and 1-2 ss_groups, fare range 0-100 approx. In ss_group 7-8, non survivors approx. have age less than 25 and fare less than 100. In ss_group 3-6 majority of passengers with age less than 18 did not survive. Majority of those who did not survive and have age over 60 are in ss_group 0. "
   ]
  },
  {
   "cell_type": "markdown",
   "id": "fa4e645a",
   "metadata": {},
   "source": [
    "# Q9. [Heatmap] Find the \"age_group - Siblings/Spouses Aboard\" and \"age_group -Parents/Children Aboard\" pairs with survivor rate over 60%."
   ]
  },
  {
   "cell_type": "markdown",
   "id": "42f19b91",
   "metadata": {},
   "source": [
    "- Q9-1. Create a heatmap from a pivot table of age_group and Siblings/Spouses Aboard. Get the percentage of survivors for each cell and find those pairs of 'age_group - Siblings/Spouses Aboard' that shows survivor rate over 60%.\n",
    "- Q9-2. Create a heatmap from a pivot table of age_group and Parents/Children Aboard. Get the percentage of survivors for each cell and find those pairs of 'age_group - Siblings/Spouses Aboard' that shows survivor rate over 60%. \n",
    "- Round to three decimal place to show percentage numbers. \n",
    "- <span style=\"color:blue\">Do not forget to add all the details (e.g., title, labels, grid, description, legends if any)</span>."
   ]
  },
  {
   "cell_type": "code",
   "execution_count": 61,
   "id": "7b964230",
   "metadata": {
    "scrolled": true
   },
   "outputs": [
    {
     "data": {
      "text/plain": [
       "Text(0.5, 1.0, 'The heatmap of survivors by age_group and Siblings/Spouses Aboard')"
      ]
     },
     "execution_count": 61,
     "metadata": {},
     "output_type": "execute_result"
    },
    {
     "data": {
      "image/png": "[encoded data removed]",
      "text/plain": [
       "<Figure size 432x288 with 2 Axes>"
      ]
     },
     "metadata": {
      "needs_background": "light"
     },
     "output_type": "display_data"
    }
   ],
   "source": [
    "# Q9-1> Write your code here.\n",
    "pivot = titanic_df.pivot_table(index='age_group', columns='Siblings/Spouses Aboard', values='Survived', aggfunc=np.mean)\n",
    "sb.heatmap(pivot, cmap='coolwarm', annot=True, fmt=\"1.3f\")\n",
    "plt.title('The heatmap of survivors by age_group and Siblings/Spouses Aboard')"
   ]
  },
  {
   "cell_type": "markdown",
   "id": "b336f050",
   "metadata": {},
   "source": [
    "pairs of 'age_group - Siblings/Spouses Aboard' that shows survivor rate over 60% are:\n",
    "age group 0-10 and Siblings/Spouses Aboard 0,1 and 2.\n",
    "age group 21-30 and Siblings/Spouses Aboard 3.\n",
    "age group 31-40 and Siblings/Spouses Aboard 3.\n",
    "age group 51-60 and Siblings/Spouses Aboard =1 and 2. "
   ]
  },
  {
   "cell_type": "code",
   "execution_count": 62,
   "id": "bc3a7c86",
   "metadata": {
    "scrolled": false
   },
   "outputs": [
    {
     "data": {
      "text/plain": [
       "Text(0.5, 1.0, 'The heatmap of survivors by age_group and Parents/Children Aboard')"
      ]
     },
     "execution_count": 62,
     "metadata": {},
     "output_type": "execute_result"
    },
    {
     "data": {
      "image/png": "[encoded data removed]",
      "text/plain": [
       "<Figure size 432x288 with 2 Axes>"
      ]
     },
     "metadata": {
      "needs_background": "light"
     },
     "output_type": "display_data"
    }
   ],
   "source": [
    "# Q9-2> Write your code here. \n",
    "pivot = titanic_df.pivot_table(index='age_group', columns='Parents/Children Aboard', values='Survived', aggfunc=np.mean)\n",
    "sb.heatmap(pivot, cmap='coolwarm', annot=True, fmt=\"1.3f\")\n",
    "plt.title('The heatmap of survivors by age_group and Parents/Children Aboard')"
   ]
  },
  {
   "cell_type": "markdown",
   "id": "9463ed68",
   "metadata": {},
   "source": [
    "pairs of 'age_group - Siblings/Spouses Aboard' that shows survivor rate over 60% are:\n",
    "with age group 0-10 and Parents/Children Aboard = 0 and 1.\n",
    "with age group 21-30 and Parents/Children Aboard = 2 and 3.\n",
    "with age group 41-50 and Parents/Children Aboard = 1.\n",
    "with age group 51-60 and Parents/Children Aboard = 3."
   ]
  },
  {
   "cell_type": "markdown",
   "id": "7dc33574",
   "metadata": {},
   "source": [
    "# Q10. [3D interaction] For the passengers younger than 20, is there a difference, by gender, between survivors who had no parents/children aboard vs. who had one parent/child aboard? What about vs. more than one parent/child aboard?"
   ]
  },
  {
   "cell_type": "markdown",
   "id": "220c24c2",
   "metadata": {},
   "source": [
    "- Use plotly px.scatter_3d to create a 3D plot.\n",
    "- Use color to represent surviors/non-survivors and different symbols to represent Pclass.\n",
    "- Use size to represent 'Siblings/Spouses Aboard'.\n",
    "- Use hover_data=[] to show all features available.\n",
    "- The symbol for Pclass 1 is given below. The title needs to be updated.\n",
    "- <span style=\"color:blue\">Do not forget to add all the details (e.g., title, labels, grid, description, legends if any)</span>."
   ]
  },
  {
   "cell_type": "code",
   "execution_count": 10,
   "id": "f2ab8222",
   "metadata": {
    "scrolled": false
   },
   "outputs": [
    {
     "data": {
      "application/vnd.plotly.v1+json": {
       "config": {
        "plotlyServerURL": "https://plot.ly"
       },
       "data": [
        {
         "customdata": [
          [
           0,
           0
          ],
          [
           0,
           0
          ],
          [
           0,
           0
          ]
         ],
         "hovertemplate": "Pclass=2<br>Age=%{x}<br>Parents/Children Aboard=%{customdata[1]}<br>Gender=%{z}<br>size=%{marker.size}<br>Siblings/Spouses Aboard=%{customdata[0]}<br>Survived=%{marker.color}<extra></extra>",
         "legendgroup": "2",
         "marker": {
          "color": [
           0,
           1,
           0
          ],
          "coloraxis": "coloraxis",
          "line": {
           "color": "black",
           "width": 1
          },
          "opacity": 0.8,
          "size": [
           1,
           1,
           1
          ],
          "sizemode": "area",
          "sizeref": 0.0022222222222222222,
          "symbol": "circle-open"
         },
         "mode": "markers",
         "name": "2",
         "scene": "scene",
         "showlegend": true,
         "type": "scatter3d",
         "x": [
          66,
          62,
          70
         ],
         "y": [
          0,
          0,
          0
         ],
         "z": [
          "male",
          "male",
          "male"
         ]
        },
        {
         "customdata": [
          [
           0,
           1
          ],
          [
           0,
           0
          ],
          [
           0,
           0
          ],
          [
           0,
           0
          ],
          [
           0,
           0
          ],
          [
           1,
           0
          ],
          [
           1,
           4
          ],
          [
           0,
           0
          ],
          [
           0,
           0
          ],
          [
           0,
           0
          ],
          [
           0,
           0
          ],
          [
           0,
           0
          ],
          [
           0,
           0
          ],
          [
           1,
           1
          ],
          [
           0,
           0
          ]
         ],
         "hovertemplate": "Pclass=1<br>Age=%{x}<br>Parents/Children Aboard=%{customdata[1]}<br>Gender=%{z}<br>size=%{marker.size}<br>Siblings/Spouses Aboard=%{customdata[0]}<br>Survived=%{marker.color}<extra></extra>",
         "legendgroup": "1",
         "marker": {
          "color": [
           0,
           0,
           0,
           0,
           0,
           1,
           0,
           0,
           0,
           0,
           0,
           0,
           1,
           0,
           1
          ],
          "coloraxis": "coloraxis",
          "line": {
           "color": "black",
           "width": 1
          },
          "opacity": 0.8,
          "size": [
           1,
           1,
           1,
           1,
           1,
           2,
           2,
           1,
           1,
           1,
           1,
           1,
           1,
           2,
           1
          ],
          "sizemode": "area",
          "sizeref": 0.0022222222222222222,
          "symbol": "diamond-open"
         },
         "mode": "markers",
         "name": "1",
         "scene": "scene",
         "showlegend": true,
         "type": "scatter3d",
         "x": [
          65,
          64,
          71,
          61,
          62,
          63,
          64,
          65,
          71,
          64,
          62,
          61,
          80,
          70,
          62
         ],
         "y": [
          1,
          0,
          0,
          0,
          0,
          0,
          4,
          0,
          0,
          0,
          0,
          0,
          0,
          1,
          0
         ],
         "z": [
          "male",
          "male",
          "male",
          "male",
          "male",
          "female",
          "male",
          "male",
          "male",
          "male",
          "male",
          "male",
          "male",
          "male",
          "female"
         ]
        },
        {
         "customdata": [
          [
           0,
           0
          ],
          [
           0,
           0
          ],
          [
           0,
           0
          ],
          [
           0,
           0
          ],
          [
           0,
           0
          ],
          [
           0,
           0
          ],
          [
           0,
           0
          ],
          [
           0,
           0
          ]
         ],
         "hovertemplate": "Pclass=3<br>Age=%{x}<br>Parents/Children Aboard=%{customdata[1]}<br>Gender=%{z}<br>size=%{marker.size}<br>Siblings/Spouses Aboard=%{customdata[0]}<br>Survived=%{marker.color}<extra></extra>",
         "legendgroup": "3",
         "marker": {
          "color": [
           0,
           0,
           0,
           1,
           0,
           0,
           0,
           0
          ],
          "coloraxis": "coloraxis",
          "line": {
           "color": "black",
           "width": 1
          },
          "opacity": 0.8,
          "size": [
           1,
           1,
           1,
           1,
           1,
           1,
           1,
           1
          ],
          "sizemode": "area",
          "sizeref": 0.0022222222222222222,
          "symbol": "square"
         },
         "mode": "markers",
         "name": "3",
         "scene": "scene",
         "showlegend": true,
         "type": "scatter3d",
         "x": [
          70.5,
          65,
          61,
          63,
          66,
          69,
          62,
          74
         ],
         "y": [
          0,
          0,
          0,
          0,
          0,
          0,
          0,
          0
         ],
         "z": [
          "male",
          "male",
          "male",
          "female",
          "male",
          "male",
          "female",
          "male"
         ]
        }
       ],
       "layout": {
        "coloraxis": {
         "colorbar": {
          "title": {
           "text": "Survived"
          }
         },
         "colorscale": [
          [
           0,
           "rgb(12,51,131)"
          ],
          [
           0.25,
           "rgb(10,136,186)"
          ],
          [
           0.5,
           "rgb(242,211,56)"
          ],
          [
           0.75,
           "rgb(242,143,56)"
          ],
          [
           1,
           "rgb(217,30,30)"
          ]
         ]
        },
        "legend": {
         "itemsizing": "constant",
         "title": {
          "text": "Pclass"
         },
         "tracegroupgap": 0,
         "x": 0.01,
         "xanchor": "left",
         "y": 0.99,
         "yanchor": "top"
        },
        "margin": {
         "b": 0,
         "l": 0,
         "r": 0,
         "t": 0
        },
        "scene": {
         "domain": {
          "x": [
           0,
           1
          ],
          "y": [
           0,
           1
          ]
         },
         "xaxis": {
          "title": {
           "text": "Age"
          }
         },
         "yaxis": {
          "title": {
           "text": "Parents/Children Aboard"
          }
         },
         "zaxis": {
          "title": {
           "text": "Gender"
          }
         }
        },
        "template": {
         "data": {
          "bar": [
           {
            "error_x": {
             "color": "#2a3f5f"
            },
            "error_y": {
             "color": "#2a3f5f"
            },
            "marker": {
             "line": {
              "color": "#E5ECF6",
              "width": 0.5
             }
            },
            "type": "bar"
           }
          ],
          "barpolar": [
           {
            "marker": {
             "line": {
              "color": "#E5ECF6",
              "width": 0.5
             }
            },
            "type": "barpolar"
           }
          ],
          "carpet": [
           {
            "aaxis": {
             "endlinecolor": "#2a3f5f",
             "gridcolor": "white",
             "linecolor": "white",
             "minorgridcolor": "white",
             "startlinecolor": "#2a3f5f"
            },
            "baxis": {
             "endlinecolor": "#2a3f5f",
             "gridcolor": "white",
             "linecolor": "white",
             "minorgridcolor": "white",
             "startlinecolor": "#2a3f5f"
            },
            "type": "carpet"
           }
          ],
          "choropleth": [
           {
            "colorbar": {
             "outlinewidth": 0,
             "ticks": ""
            },
            "type": "choropleth"
           }
          ],
          "contour": [
           {
            "colorbar": {
             "outlinewidth": 0,
             "ticks": ""
            },
            "colorscale": [
             [
              0,
              "#0d0887"
             ],
             [
              0.1111111111111111,
              "#46039f"
             ],
             [
              0.2222222222222222,
              "#7201a8"
             ],
             [
              0.3333333333333333,
              "#9c179e"
             ],
             [
              0.4444444444444444,
              "#bd3786"
             ],
             [
              0.5555555555555556,
              "#d8576b"
             ],
             [
              0.6666666666666666,
              "#ed7953"
             ],
             [
              0.7777777777777778,
              "#fb9f3a"
             ],
             [
              0.8888888888888888,
              "#fdca26"
             ],
             [
              1,
              "#f0f921"
             ]
            ],
            "type": "contour"
           }
          ],
          "contourcarpet": [
           {
            "colorbar": {
             "outlinewidth": 0,
             "ticks": ""
            },
            "type": "contourcarpet"
           }
          ],
          "heatmap": [
           {
            "colorbar": {
             "outlinewidth": 0,
             "ticks": ""
            },
            "colorscale": [
             [
              0,
              "#0d0887"
             ],
             [
              0.1111111111111111,
              "#46039f"
             ],
             [
              0.2222222222222222,
              "#7201a8"
             ],
             [
              0.3333333333333333,
              "#9c179e"
             ],
             [
              0.4444444444444444,
              "#bd3786"
             ],
             [
              0.5555555555555556,
              "#d8576b"
             ],
             [
              0.6666666666666666,
              "#ed7953"
             ],
             [
              0.7777777777777778,
              "#fb9f3a"
             ],
             [
              0.8888888888888888,
              "#fdca26"
             ],
             [
              1,
              "#f0f921"
             ]
            ],
            "type": "heatmap"
           }
          ],
          "heatmapgl": [
           {
            "colorbar": {
             "outlinewidth": 0,
             "ticks": ""
            },
            "colorscale": [
             [
              0,
              "#0d0887"
             ],
             [
              0.1111111111111111,
              "#46039f"
             ],
             [
              0.2222222222222222,
              "#7201a8"
             ],
             [
              0.3333333333333333,
              "#9c179e"
             ],
             [
              0.4444444444444444,
              "#bd3786"
             ],
             [
              0.5555555555555556,
              "#d8576b"
             ],
             [
              0.6666666666666666,
              "#ed7953"
             ],
             [
              0.7777777777777778,
              "#fb9f3a"
             ],
             [
              0.8888888888888888,
              "#fdca26"
             ],
             [
              1,
              "#f0f921"
             ]
            ],
            "type": "heatmapgl"
           }
          ],
          "histogram": [
           {
            "marker": {
             "colorbar": {
              "outlinewidth": 0,
              "ticks": ""
             }
            },
            "type": "histogram"
           }
          ],
          "histogram2d": [
           {
            "colorbar": {
             "outlinewidth": 0,
             "ticks": ""
            },
            "colorscale": [
             [
              0,
              "#0d0887"
             ],
             [
              0.1111111111111111,
              "#46039f"
             ],
             [
              0.2222222222222222,
              "#7201a8"
             ],
             [
              0.3333333333333333,
              "#9c179e"
             ],
             [
              0.4444444444444444,
              "#bd3786"
             ],
             [
              0.5555555555555556,
              "#d8576b"
             ],
             [
              0.6666666666666666,
              "#ed7953"
             ],
             [
              0.7777777777777778,
              "#fb9f3a"
             ],
             [
              0.8888888888888888,
              "#fdca26"
             ],
             [
              1,
              "#f0f921"
             ]
            ],
            "type": "histogram2d"
           }
          ],
          "histogram2dcontour": [
           {
            "colorbar": {
             "outlinewidth": 0,
             "ticks": ""
            },
            "colorscale": [
             [
              0,
              "#0d0887"
             ],
             [
              0.1111111111111111,
              "#46039f"
             ],
             [
              0.2222222222222222,
              "#7201a8"
             ],
             [
              0.3333333333333333,
              "#9c179e"
             ],
             [
              0.4444444444444444,
              "#bd3786"
             ],
             [
              0.5555555555555556,
              "#d8576b"
             ],
             [
              0.6666666666666666,
              "#ed7953"
             ],
             [
              0.7777777777777778,
              "#fb9f3a"
             ],
             [
              0.8888888888888888,
              "#fdca26"
             ],
             [
              1,
              "#f0f921"
             ]
            ],
            "type": "histogram2dcontour"
           }
          ],
          "mesh3d": [
           {
            "colorbar": {
             "outlinewidth": 0,
             "ticks": ""
            },
            "type": "mesh3d"
           }
          ],
          "parcoords": [
           {
            "line": {
             "colorbar": {
              "outlinewidth": 0,
              "ticks": ""
             }
            },
            "type": "parcoords"
           }
          ],
          "pie": [
           {
            "automargin": true,
            "type": "pie"
           }
          ],
          "scatter": [
           {
            "marker": {
             "colorbar": {
              "outlinewidth": 0,
              "ticks": ""
             }
            },
            "type": "scatter"
           }
          ],
          "scatter3d": [
           {
            "line": {
             "colorbar": {
              "outlinewidth": 0,
              "ticks": ""
             }
            },
            "marker": {
             "colorbar": {
              "outlinewidth": 0,
              "ticks": ""
             }
            },
            "type": "scatter3d"
           }
          ],
          "scattercarpet": [
           {
            "marker": {
             "colorbar": {
              "outlinewidth": 0,
              "ticks": ""
             }
            },
            "type": "scattercarpet"
           }
          ],
          "scattergeo": [
           {
            "marker": {
             "colorbar": {
              "outlinewidth": 0,
              "ticks": ""
             }
            },
            "type": "scattergeo"
           }
          ],
          "scattergl": [
           {
            "marker": {
             "colorbar": {
              "outlinewidth": 0,
              "ticks": ""
             }
            },
            "type": "scattergl"
           }
          ],
          "scattermapbox": [
           {
            "marker": {
             "colorbar": {
              "outlinewidth": 0,
              "ticks": ""
             }
            },
            "type": "scattermapbox"
           }
          ],
          "scatterpolar": [
           {
            "marker": {
             "colorbar": {
              "outlinewidth": 0,
              "ticks": ""
             }
            },
            "type": "scatterpolar"
           }
          ],
          "scatterpolargl": [
           {
            "marker": {
             "colorbar": {
              "outlinewidth": 0,
              "ticks": ""
             }
            },
            "type": "scatterpolargl"
           }
          ],
          "scatterternary": [
           {
            "marker": {
             "colorbar": {
              "outlinewidth": 0,
              "ticks": ""
             }
            },
            "type": "scatterternary"
           }
          ],
          "surface": [
           {
            "colorbar": {
             "outlinewidth": 0,
             "ticks": ""
            },
            "colorscale": [
             [
              0,
              "#0d0887"
             ],
             [
              0.1111111111111111,
              "#46039f"
             ],
             [
              0.2222222222222222,
              "#7201a8"
             ],
             [
              0.3333333333333333,
              "#9c179e"
             ],
             [
              0.4444444444444444,
              "#bd3786"
             ],
             [
              0.5555555555555556,
              "#d8576b"
             ],
             [
              0.6666666666666666,
              "#ed7953"
             ],
             [
              0.7777777777777778,
              "#fb9f3a"
             ],
             [
              0.8888888888888888,
              "#fdca26"
             ],
             [
              1,
              "#f0f921"
             ]
            ],
            "type": "surface"
           }
          ],
          "table": [
           {
            "cells": {
             "fill": {
              "color": "#EBF0F8"
             },
             "line": {
              "color": "white"
             }
            },
            "header": {
             "fill": {
              "color": "#C8D4E3"
             },
             "line": {
              "color": "white"
             }
            },
            "type": "table"
           }
          ]
         },
         "layout": {
          "annotationdefaults": {
           "arrowcolor": "#2a3f5f",
           "arrowhead": 0,
           "arrowwidth": 1
          },
          "coloraxis": {
           "colorbar": {
            "outlinewidth": 0,
            "ticks": ""
           }
          },
          "colorscale": {
           "diverging": [
            [
             0,
             "#8e0152"
            ],
            [
             0.1,
             "#c51b7d"
            ],
            [
             0.2,
             "#de77ae"
            ],
            [
             0.3,
             "#f1b6da"
            ],
            [
             0.4,
             "#fde0ef"
            ],
            [
             0.5,
             "#f7f7f7"
            ],
            [
             0.6,
             "#e6f5d0"
            ],
            [
             0.7,
             "#b8e186"
            ],
            [
             0.8,
             "#7fbc41"
            ],
            [
             0.9,
             "#4d9221"
            ],
            [
             1,
             "#276419"
            ]
           ],
           "sequential": [
            [
             0,
             "#0d0887"
            ],
            [
             0.1111111111111111,
             "#46039f"
            ],
            [
             0.2222222222222222,
             "#7201a8"
            ],
            [
             0.3333333333333333,
             "#9c179e"
            ],
            [
             0.4444444444444444,
             "#bd3786"
            ],
            [
             0.5555555555555556,
             "#d8576b"
            ],
            [
             0.6666666666666666,
             "#ed7953"
            ],
            [
             0.7777777777777778,
             "#fb9f3a"
            ],
            [
             0.8888888888888888,
             "#fdca26"
            ],
            [
             1,
             "#f0f921"
            ]
           ],
           "sequentialminus": [
            [
             0,
             "#0d0887"
            ],
            [
             0.1111111111111111,
             "#46039f"
            ],
            [
             0.2222222222222222,
             "#7201a8"
            ],
            [
             0.3333333333333333,
             "#9c179e"
            ],
            [
             0.4444444444444444,
             "#bd3786"
            ],
            [
             0.5555555555555556,
             "#d8576b"
            ],
            [
             0.6666666666666666,
             "#ed7953"
            ],
            [
             0.7777777777777778,
             "#fb9f3a"
            ],
            [
             0.8888888888888888,
             "#fdca26"
            ],
            [
             1,
             "#f0f921"
            ]
           ]
          },
          "colorway": [
           "#636efa",
           "#EF553B",
           "#00cc96",
           "#ab63fa",
           "#FFA15A",
           "#19d3f3",
           "#FF6692",
           "#B6E880",
           "#FF97FF",
           "#FECB52"
          ],
          "font": {
           "color": "#2a3f5f"
          },
          "geo": {
           "bgcolor": "white",
           "lakecolor": "white",
           "landcolor": "#E5ECF6",
           "showlakes": true,
           "showland": true,
           "subunitcolor": "white"
          },
          "hoverlabel": {
           "align": "left"
          },
          "hovermode": "closest",
          "mapbox": {
           "style": "light"
          },
          "paper_bgcolor": "white",
          "plot_bgcolor": "#E5ECF6",
          "polar": {
           "angularaxis": {
            "gridcolor": "white",
            "linecolor": "white",
            "ticks": ""
           },
           "bgcolor": "#E5ECF6",
           "radialaxis": {
            "gridcolor": "white",
            "linecolor": "white",
            "ticks": ""
           }
          },
          "scene": {
           "xaxis": {
            "backgroundcolor": "#E5ECF6",
            "gridcolor": "white",
            "gridwidth": 2,
            "linecolor": "white",
            "showbackground": true,
            "ticks": "",
            "zerolinecolor": "white"
           },
           "yaxis": {
            "backgroundcolor": "#E5ECF6",
            "gridcolor": "white",
            "gridwidth": 2,
            "linecolor": "white",
            "showbackground": true,
            "ticks": "",
            "zerolinecolor": "white"
           },
           "zaxis": {
            "backgroundcolor": "#E5ECF6",
            "gridcolor": "white",
            "gridwidth": 2,
            "linecolor": "white",
            "showbackground": true,
            "ticks": "",
            "zerolinecolor": "white"
           }
          },
          "shapedefaults": {
           "line": {
            "color": "#2a3f5f"
           }
          },
          "ternary": {
           "aaxis": {
            "gridcolor": "white",
            "linecolor": "white",
            "ticks": ""
           },
           "baxis": {
            "gridcolor": "white",
            "linecolor": "white",
            "ticks": ""
           },
           "bgcolor": "#E5ECF6",
           "caxis": {
            "gridcolor": "white",
            "linecolor": "white",
            "ticks": ""
           }
          },
          "title": {
           "x": 0.05
          },
          "xaxis": {
           "automargin": true,
           "gridcolor": "white",
           "linecolor": "white",
           "ticks": "",
           "title": {
            "standoff": 15
           },
           "zerolinecolor": "white",
           "zerolinewidth": 2
          },
          "yaxis": {
           "automargin": true,
           "gridcolor": "white",
           "linecolor": "white",
           "ticks": "",
           "title": {
            "standoff": 15
           },
           "zerolinecolor": "white",
           "zerolinewidth": 2
          }
         }
        },
        "title": {
         "text": "Comparison of Younger passengers survival rate",
         "x": 0.5,
         "xanchor": "center",
         "y": 0.9,
         "yanchor": "top"
        }
       }
      },
      "text/html": [
       "<div>\n",
       "        \n",
       "        \n",
       "            <div id=\"7479b153-506b-4273-bd83-488fecc61e30\" class=\"plotly-graph-div\" style=\"height:525px; width:100%;\"></div>\n",
       "            <script type=\"text/javascript\">\n",
       "                require([\"plotly\"], function(Plotly) {\n",
       "                    window.PLOTLYENV=window.PLOTLYENV || {};\n",
       "                    \n",
       "                if (document.getElementById(\"7479b153-506b-4273-bd83-488fecc61e30\")) {\n",
       "                    Plotly.newPlot(\n",
       "                        '7479b153-506b-4273-bd83-488fecc61e30',\n",
       "                        [{\"customdata\": [[0, 0], [0, 0], [0, 0]], \"hovertemplate\": \"Pclass=2<br>Age=%{x}<br>Parents/Children Aboard=%{customdata[1]}<br>Gender=%{z}<br>size=%{marker.size}<br>Siblings/Spouses Aboard=%{customdata[0]}<br>Survived=%{marker.color}<extra></extra>\", \"legendgroup\": \"2\", \"marker\": {\"color\": [0, 1, 0], \"coloraxis\": \"coloraxis\", \"line\": {\"color\": \"black\", \"width\": 1}, \"opacity\": 0.8, \"size\": [1, 1, 1], \"sizemode\": \"area\", \"sizeref\": 0.0022222222222222222, \"symbol\": \"circle-open\"}, \"mode\": \"markers\", \"name\": \"2\", \"scene\": \"scene\", \"showlegend\": true, \"type\": \"scatter3d\", \"x\": [66.0, 62.0, 70.0], \"y\": [0, 0, 0], \"z\": [\"male\", \"male\", \"male\"]}, {\"customdata\": [[0, 1], [0, 0], [0, 0], [0, 0], [0, 0], [1, 0], [1, 4], [0, 0], [0, 0], [0, 0], [0, 0], [0, 0], [0, 0], [1, 1], [0, 0]], \"hovertemplate\": \"Pclass=1<br>Age=%{x}<br>Parents/Children Aboard=%{customdata[1]}<br>Gender=%{z}<br>size=%{marker.size}<br>Siblings/Spouses Aboard=%{customdata[0]}<br>Survived=%{marker.color}<extra></extra>\", \"legendgroup\": \"1\", \"marker\": {\"color\": [0, 0, 0, 0, 0, 1, 0, 0, 0, 0, 0, 0, 1, 0, 1], \"coloraxis\": \"coloraxis\", \"line\": {\"color\": \"black\", \"width\": 1}, \"opacity\": 0.8, \"size\": [1, 1, 1, 1, 1, 2, 2, 1, 1, 1, 1, 1, 1, 2, 1], \"sizemode\": \"area\", \"sizeref\": 0.0022222222222222222, \"symbol\": \"diamond-open\"}, \"mode\": \"markers\", \"name\": \"1\", \"scene\": \"scene\", \"showlegend\": true, \"type\": \"scatter3d\", \"x\": [65.0, 64.0, 71.0, 61.0, 62.0, 63.0, 64.0, 65.0, 71.0, 64.0, 62.0, 61.0, 80.0, 70.0, 62.0], \"y\": [1, 0, 0, 0, 0, 0, 4, 0, 0, 0, 0, 0, 0, 1, 0], \"z\": [\"male\", \"male\", \"male\", \"male\", \"male\", \"female\", \"male\", \"male\", \"male\", \"male\", \"male\", \"male\", \"male\", \"male\", \"female\"]}, {\"customdata\": [[0, 0], [0, 0], [0, 0], [0, 0], [0, 0], [0, 0], [0, 0], [0, 0]], \"hovertemplate\": \"Pclass=3<br>Age=%{x}<br>Parents/Children Aboard=%{customdata[1]}<br>Gender=%{z}<br>size=%{marker.size}<br>Siblings/Spouses Aboard=%{customdata[0]}<br>Survived=%{marker.color}<extra></extra>\", \"legendgroup\": \"3\", \"marker\": {\"color\": [0, 0, 0, 1, 0, 0, 0, 0], \"coloraxis\": \"coloraxis\", \"line\": {\"color\": \"black\", \"width\": 1}, \"opacity\": 0.8, \"size\": [1, 1, 1, 1, 1, 1, 1, 1], \"sizemode\": \"area\", \"sizeref\": 0.0022222222222222222, \"symbol\": \"square\"}, \"mode\": \"markers\", \"name\": \"3\", \"scene\": \"scene\", \"showlegend\": true, \"type\": \"scatter3d\", \"x\": [70.5, 65.0, 61.0, 63.0, 66.0, 69.0, 62.0, 74.0], \"y\": [0, 0, 0, 0, 0, 0, 0, 0], \"z\": [\"male\", \"male\", \"male\", \"female\", \"male\", \"male\", \"female\", \"male\"]}],\n",
       "                        {\"coloraxis\": {\"colorbar\": {\"title\": {\"text\": \"Survived\"}}, \"colorscale\": [[0.0, \"rgb(12,51,131)\"], [0.25, \"rgb(10,136,186)\"], [0.5, \"rgb(242,211,56)\"], [0.75, \"rgb(242,143,56)\"], [1.0, \"rgb(217,30,30)\"]]}, \"legend\": {\"itemsizing\": \"constant\", \"title\": {\"text\": \"Pclass\"}, \"tracegroupgap\": 0, \"x\": 0.01, \"xanchor\": \"left\", \"y\": 0.99, \"yanchor\": \"top\"}, \"margin\": {\"b\": 0, \"l\": 0, \"r\": 0, \"t\": 0}, \"scene\": {\"domain\": {\"x\": [0.0, 1.0], \"y\": [0.0, 1.0]}, \"xaxis\": {\"title\": {\"text\": \"Age\"}}, \"yaxis\": {\"title\": {\"text\": \"Parents/Children Aboard\"}}, \"zaxis\": {\"title\": {\"text\": \"Gender\"}}}, \"template\": {\"data\": {\"bar\": [{\"error_x\": {\"color\": \"#2a3f5f\"}, \"error_y\": {\"color\": \"#2a3f5f\"}, \"marker\": {\"line\": {\"color\": \"#E5ECF6\", \"width\": 0.5}}, \"type\": \"bar\"}], \"barpolar\": [{\"marker\": {\"line\": {\"color\": \"#E5ECF6\", \"width\": 0.5}}, \"type\": \"barpolar\"}], \"carpet\": [{\"aaxis\": {\"endlinecolor\": \"#2a3f5f\", \"gridcolor\": \"white\", \"linecolor\": \"white\", \"minorgridcolor\": \"white\", \"startlinecolor\": \"#2a3f5f\"}, \"baxis\": {\"endlinecolor\": \"#2a3f5f\", \"gridcolor\": \"white\", \"linecolor\": \"white\", \"minorgridcolor\": \"white\", \"startlinecolor\": \"#2a3f5f\"}, \"type\": \"carpet\"}], \"choropleth\": [{\"colorbar\": {\"outlinewidth\": 0, \"ticks\": \"\"}, \"type\": \"choropleth\"}], \"contour\": [{\"colorbar\": {\"outlinewidth\": 0, \"ticks\": \"\"}, \"colorscale\": [[0.0, \"#0d0887\"], [0.1111111111111111, \"#46039f\"], [0.2222222222222222, \"#7201a8\"], [0.3333333333333333, \"#9c179e\"], [0.4444444444444444, \"#bd3786\"], [0.5555555555555556, \"#d8576b\"], [0.6666666666666666, \"#ed7953\"], [0.7777777777777778, \"#fb9f3a\"], [0.8888888888888888, \"#fdca26\"], [1.0, \"#f0f921\"]], \"type\": \"contour\"}], \"contourcarpet\": [{\"colorbar\": {\"outlinewidth\": 0, \"ticks\": \"\"}, \"type\": \"contourcarpet\"}], \"heatmap\": [{\"colorbar\": {\"outlinewidth\": 0, \"ticks\": \"\"}, \"colorscale\": [[0.0, \"#0d0887\"], [0.1111111111111111, \"#46039f\"], [0.2222222222222222, \"#7201a8\"], [0.3333333333333333, \"#9c179e\"], [0.4444444444444444, \"#bd3786\"], [0.5555555555555556, \"#d8576b\"], [0.6666666666666666, \"#ed7953\"], [0.7777777777777778, \"#fb9f3a\"], [0.8888888888888888, \"#fdca26\"], [1.0, \"#f0f921\"]], \"type\": \"heatmap\"}], \"heatmapgl\": [{\"colorbar\": {\"outlinewidth\": 0, \"ticks\": \"\"}, \"colorscale\": [[0.0, \"#0d0887\"], [0.1111111111111111, \"#46039f\"], [0.2222222222222222, \"#7201a8\"], [0.3333333333333333, \"#9c179e\"], [0.4444444444444444, \"#bd3786\"], [0.5555555555555556, \"#d8576b\"], [0.6666666666666666, \"#ed7953\"], [0.7777777777777778, \"#fb9f3a\"], [0.8888888888888888, \"#fdca26\"], [1.0, \"#f0f921\"]], \"type\": \"heatmapgl\"}], \"histogram\": [{\"marker\": {\"colorbar\": {\"outlinewidth\": 0, \"ticks\": \"\"}}, \"type\": \"histogram\"}], \"histogram2d\": [{\"colorbar\": {\"outlinewidth\": 0, \"ticks\": \"\"}, \"colorscale\": [[0.0, \"#0d0887\"], [0.1111111111111111, \"#46039f\"], [0.2222222222222222, \"#7201a8\"], [0.3333333333333333, \"#9c179e\"], [0.4444444444444444, \"#bd3786\"], [0.5555555555555556, \"#d8576b\"], [0.6666666666666666, \"#ed7953\"], [0.7777777777777778, \"#fb9f3a\"], [0.8888888888888888, \"#fdca26\"], [1.0, \"#f0f921\"]], \"type\": \"histogram2d\"}], \"histogram2dcontour\": [{\"colorbar\": {\"outlinewidth\": 0, \"ticks\": \"\"}, \"colorscale\": [[0.0, \"#0d0887\"], [0.1111111111111111, \"#46039f\"], [0.2222222222222222, \"#7201a8\"], [0.3333333333333333, \"#9c179e\"], [0.4444444444444444, \"#bd3786\"], [0.5555555555555556, \"#d8576b\"], [0.6666666666666666, \"#ed7953\"], [0.7777777777777778, \"#fb9f3a\"], [0.8888888888888888, \"#fdca26\"], [1.0, \"#f0f921\"]], \"type\": \"histogram2dcontour\"}], \"mesh3d\": [{\"colorbar\": {\"outlinewidth\": 0, \"ticks\": \"\"}, \"type\": \"mesh3d\"}], \"parcoords\": [{\"line\": {\"colorbar\": {\"outlinewidth\": 0, \"ticks\": \"\"}}, \"type\": \"parcoords\"}], \"pie\": [{\"automargin\": true, \"type\": \"pie\"}], \"scatter\": [{\"marker\": {\"colorbar\": {\"outlinewidth\": 0, \"ticks\": \"\"}}, \"type\": \"scatter\"}], \"scatter3d\": [{\"line\": {\"colorbar\": {\"outlinewidth\": 0, \"ticks\": \"\"}}, \"marker\": {\"colorbar\": {\"outlinewidth\": 0, \"ticks\": \"\"}}, \"type\": \"scatter3d\"}], \"scattercarpet\": [{\"marker\": {\"colorbar\": {\"outlinewidth\": 0, \"ticks\": \"\"}}, \"type\": \"scattercarpet\"}], \"scattergeo\": [{\"marker\": {\"colorbar\": {\"outlinewidth\": 0, \"ticks\": \"\"}}, \"type\": \"scattergeo\"}], \"scattergl\": [{\"marker\": {\"colorbar\": {\"outlinewidth\": 0, \"ticks\": \"\"}}, \"type\": \"scattergl\"}], \"scattermapbox\": [{\"marker\": {\"colorbar\": {\"outlinewidth\": 0, \"ticks\": \"\"}}, \"type\": \"scattermapbox\"}], \"scatterpolar\": [{\"marker\": {\"colorbar\": {\"outlinewidth\": 0, \"ticks\": \"\"}}, \"type\": \"scatterpolar\"}], \"scatterpolargl\": [{\"marker\": {\"colorbar\": {\"outlinewidth\": 0, \"ticks\": \"\"}}, \"type\": \"scatterpolargl\"}], \"scatterternary\": [{\"marker\": {\"colorbar\": {\"outlinewidth\": 0, \"ticks\": \"\"}}, \"type\": \"scatterternary\"}], \"surface\": [{\"colorbar\": {\"outlinewidth\": 0, \"ticks\": \"\"}, \"colorscale\": [[0.0, \"#0d0887\"], [0.1111111111111111, \"#46039f\"], [0.2222222222222222, \"#7201a8\"], [0.3333333333333333, \"#9c179e\"], [0.4444444444444444, \"#bd3786\"], [0.5555555555555556, \"#d8576b\"], [0.6666666666666666, \"#ed7953\"], [0.7777777777777778, \"#fb9f3a\"], [0.8888888888888888, \"#fdca26\"], [1.0, \"#f0f921\"]], \"type\": \"surface\"}], \"table\": [{\"cells\": {\"fill\": {\"color\": \"#EBF0F8\"}, \"line\": {\"color\": \"white\"}}, \"header\": {\"fill\": {\"color\": \"#C8D4E3\"}, \"line\": {\"color\": \"white\"}}, \"type\": \"table\"}]}, \"layout\": {\"annotationdefaults\": {\"arrowcolor\": \"#2a3f5f\", \"arrowhead\": 0, \"arrowwidth\": 1}, \"coloraxis\": {\"colorbar\": {\"outlinewidth\": 0, \"ticks\": \"\"}}, \"colorscale\": {\"diverging\": [[0, \"#8e0152\"], [0.1, \"#c51b7d\"], [0.2, \"#de77ae\"], [0.3, \"#f1b6da\"], [0.4, \"#fde0ef\"], [0.5, \"#f7f7f7\"], [0.6, \"#e6f5d0\"], [0.7, \"#b8e186\"], [0.8, \"#7fbc41\"], [0.9, \"#4d9221\"], [1, \"#276419\"]], \"sequential\": [[0.0, \"#0d0887\"], [0.1111111111111111, \"#46039f\"], [0.2222222222222222, \"#7201a8\"], [0.3333333333333333, \"#9c179e\"], [0.4444444444444444, \"#bd3786\"], [0.5555555555555556, \"#d8576b\"], [0.6666666666666666, \"#ed7953\"], [0.7777777777777778, \"#fb9f3a\"], [0.8888888888888888, \"#fdca26\"], [1.0, \"#f0f921\"]], \"sequentialminus\": [[0.0, \"#0d0887\"], [0.1111111111111111, \"#46039f\"], [0.2222222222222222, \"#7201a8\"], [0.3333333333333333, \"#9c179e\"], [0.4444444444444444, \"#bd3786\"], [0.5555555555555556, \"#d8576b\"], [0.6666666666666666, \"#ed7953\"], [0.7777777777777778, \"#fb9f3a\"], [0.8888888888888888, \"#fdca26\"], [1.0, \"#f0f921\"]]}, \"colorway\": [\"#636efa\", \"#EF553B\", \"#00cc96\", \"#ab63fa\", \"#FFA15A\", \"#19d3f3\", \"#FF6692\", \"#B6E880\", \"#FF97FF\", \"#FECB52\"], \"font\": {\"color\": \"#2a3f5f\"}, \"geo\": {\"bgcolor\": \"white\", \"lakecolor\": \"white\", \"landcolor\": \"#E5ECF6\", \"showlakes\": true, \"showland\": true, \"subunitcolor\": \"white\"}, \"hoverlabel\": {\"align\": \"left\"}, \"hovermode\": \"closest\", \"mapbox\": {\"style\": \"light\"}, \"paper_bgcolor\": \"white\", \"plot_bgcolor\": \"#E5ECF6\", \"polar\": {\"angularaxis\": {\"gridcolor\": \"white\", \"linecolor\": \"white\", \"ticks\": \"\"}, \"bgcolor\": \"#E5ECF6\", \"radialaxis\": {\"gridcolor\": \"white\", \"linecolor\": \"white\", \"ticks\": \"\"}}, \"scene\": {\"xaxis\": {\"backgroundcolor\": \"#E5ECF6\", \"gridcolor\": \"white\", \"gridwidth\": 2, \"linecolor\": \"white\", \"showbackground\": true, \"ticks\": \"\", \"zerolinecolor\": \"white\"}, \"yaxis\": {\"backgroundcolor\": \"#E5ECF6\", \"gridcolor\": \"white\", \"gridwidth\": 2, \"linecolor\": \"white\", \"showbackground\": true, \"ticks\": \"\", \"zerolinecolor\": \"white\"}, \"zaxis\": {\"backgroundcolor\": \"#E5ECF6\", \"gridcolor\": \"white\", \"gridwidth\": 2, \"linecolor\": \"white\", \"showbackground\": true, \"ticks\": \"\", \"zerolinecolor\": \"white\"}}, \"shapedefaults\": {\"line\": {\"color\": \"#2a3f5f\"}}, \"ternary\": {\"aaxis\": {\"gridcolor\": \"white\", \"linecolor\": \"white\", \"ticks\": \"\"}, \"baxis\": {\"gridcolor\": \"white\", \"linecolor\": \"white\", \"ticks\": \"\"}, \"bgcolor\": \"#E5ECF6\", \"caxis\": {\"gridcolor\": \"white\", \"linecolor\": \"white\", \"ticks\": \"\"}}, \"title\": {\"x\": 0.05}, \"xaxis\": {\"automargin\": true, \"gridcolor\": \"white\", \"linecolor\": \"white\", \"ticks\": \"\", \"title\": {\"standoff\": 15}, \"zerolinecolor\": \"white\", \"zerolinewidth\": 2}, \"yaxis\": {\"automargin\": true, \"gridcolor\": \"white\", \"linecolor\": \"white\", \"ticks\": \"\", \"title\": {\"standoff\": 15}, \"zerolinecolor\": \"white\", \"zerolinewidth\": 2}}}, \"title\": {\"text\": \"Comparison of Younger passengers survival rate\", \"x\": 0.5, \"xanchor\": \"center\", \"y\": 0.9, \"yanchor\": \"top\"}},\n",
       "                        {\"responsive\": true}\n",
       "                    ).then(function(){\n",
       "                            \n",
       "var gd = document.getElementById('7479b153-506b-4273-bd83-488fecc61e30');\n",
       "var x = new MutationObserver(function (mutations, observer) {{\n",
       "        var display = window.getComputedStyle(gd).display;\n",
       "        if (!display || display === 'none') {{\n",
       "            console.log([gd, 'removed!']);\n",
       "            Plotly.purge(gd);\n",
       "            observer.disconnect();\n",
       "        }}\n",
       "}});\n",
       "\n",
       "// Listen for the removal of the full notebook cells\n",
       "var notebookContainer = gd.closest('#notebook-container');\n",
       "if (notebookContainer) {{\n",
       "    x.observe(notebookContainer, {childList: true});\n",
       "}}\n",
       "\n",
       "// Listen for the clearing of the current output cell\n",
       "var outputEl = gd.closest('.output');\n",
       "if (outputEl) {{\n",
       "    x.observe(outputEl, {childList: true});\n",
       "}}\n",
       "\n",
       "                        })\n",
       "                };\n",
       "                });\n",
       "            </script>\n",
       "        </div>"
      ]
     },
     "metadata": {},
     "output_type": "display_data"
    }
   ],
   "source": [
    "# # Q10\n",
    "\n",
    "y_df = titanic_df[titanic_df.Age > 60]\n",
    "y_df\n",
    "\n",
    "#issue with 'Siblings/Spouses Aboard' having zeros\n",
    "ssSize = np.array(y_df['Siblings/Spouses Aboard']) \n",
    "ssSize = (ssSize + 1)\n",
    "\n",
    "#using scatter_3d\n",
    "fig = px.scatter_3d(y_df, x='Age', y='Parents/Children Aboard', z='Gender', #Parents/Children Aboard\n",
    "              color='Survived', size=ssSize, size_max=30,\n",
    "              symbol='Pclass', opacity=0.8,\n",
    "              hover_data=['Siblings/Spouses Aboard','Parents/Children Aboard'],\n",
    "              color_continuous_scale='Portland')\n",
    "\n",
    "# changing legend position and tight layout \n",
    "fig.for_each_trace(\n",
    "    lambda trace: trace.update(marker_symbol=\"diamond-open\") \n",
    "    if trace.name == \"1\" \n",
    "    else( \n",
    "        trace.update(marker_symbol=\"circle-open\") if trace.name == \"2\" else()) )\n",
    "\n",
    "\n",
    "#grey marker line\n",
    "fig.update_traces(marker=dict(line=dict(width=1, color='black')), selector=dict(mode='markers'))\n",
    "\n",
    "fig.update_layout(\n",
    "    title={\n",
    "        'text': \"Comparison of Younger passengers survival rate\",\n",
    "        'y':0.9,\n",
    "        'x':0.5,\n",
    "        'xanchor': 'center',\n",
    "        'yanchor': 'top'},\n",
    "    margin=dict(l=0, r=0, b=0, t=0),\n",
    "    legend=dict(\n",
    "        yanchor=\"top\",\n",
    "        y=0.99,\n",
    "        xanchor=\"left\",\n",
    "        x=0.01\n",
    "))\n",
    "\n",
    "fig.show()\n"
   ]
  },
  {
   "cell_type": "markdown",
   "id": "0273f902",
   "metadata": {},
   "source": [
    "Gender 'female' with 0 and 1 parents/childern abroad, age group 15-19 have higher survival rate if compared with gender 'male' with 0 and 1 parents/childern abraod, age group 15-19. 'male' show 0% survival rate in this category. \n",
    "Gender 'female' with 0-2 parents/children aboard, age 0-20 have survivors. \n",
    "One instance gender 'female', younger than 10 has survived with 0 parents/childern aboard. \n",
    "Gender 'female' with age less than 20, with 2 parents/childern abroad have a higher survival rate."
   ]
  }
 ],
 "metadata": {
  "kernelspec": {
   "display_name": "Python 3",
   "language": "python",
   "name": "python3"
  },
  "language_info": {
   "codemirror_mode": {
    "name": "ipython",
    "version": 3
   },
   "file_extension": ".py",
   "mimetype": "text/x-python",
   "name": "python",
   "nbconvert_exporter": "python",
   "pygments_lexer": "ipython3",
   "version": "3.8.8"
  }
 },
 "nbformat": 4,
 "nbformat_minor": 5
}
